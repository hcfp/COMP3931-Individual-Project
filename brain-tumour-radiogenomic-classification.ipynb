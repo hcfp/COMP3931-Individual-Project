{
 "cells": [
  {
   "cell_type": "code",
   "execution_count": 1,
   "id": "98345c27",
   "metadata": {
    "_cell_guid": "b1076dfc-b9ad-4769-8c92-a6c4dae69d19",
    "_uuid": "8f2839f25d086af736a60e9eeb907d3b93b6e0e5",
    "execution": {
     "iopub.execute_input": "2022-03-16T20:37:01.786386Z",
     "iopub.status.busy": "2022-03-16T20:37:01.784575Z",
     "iopub.status.idle": "2022-03-16T20:37:23.585325Z",
     "shell.execute_reply": "2022-03-16T20:37:23.583695Z",
     "shell.execute_reply.started": "2022-03-16T20:35:49.667531Z"
    },
    "papermill": {
     "duration": 21.830967,
     "end_time": "2022-03-16T20:37:23.585513",
     "exception": false,
     "start_time": "2022-03-16T20:37:01.754546",
     "status": "completed"
    },
    "tags": []
   },
   "outputs": [
    {
     "name": "stdout",
     "output_type": "stream",
     "text": [
      "Collecting git+https://github.com/shijianjian/EfficientNet-PyTorch-3D\r\n",
      "  Cloning https://github.com/shijianjian/EfficientNet-PyTorch-3D to /tmp/pip-req-build-2a2x14qv\r\n",
      "  Running command git clone -q https://github.com/shijianjian/EfficientNet-PyTorch-3D /tmp/pip-req-build-2a2x14qv\r\n",
      "  Resolved https://github.com/shijianjian/EfficientNet-PyTorch-3D to commit 3e79bcd06216b2e831bf3300fff9636cce2cd0d1\r\n",
      "Requirement already satisfied: torch in /opt/conda/lib/python3.7/site-packages (from efficientnet-pytorch-3d==0.6.3) (1.9.1)\r\n",
      "Requirement already satisfied: typing-extensions in /opt/conda/lib/python3.7/site-packages (from torch->efficientnet-pytorch-3d==0.6.3) (3.10.0.2)\r\n",
      "Building wheels for collected packages: efficientnet-pytorch-3d\r\n",
      "  Building wheel for efficientnet-pytorch-3d (setup.py) ... \u001b[?25l-\b \b\\\b \bdone\r\n",
      "\u001b[?25h  Created wheel for efficientnet-pytorch-3d: filename=efficientnet_pytorch_3d-0.6.3-py3-none-any.whl size=16770 sha256=377cd30a65b9473af4c1bdc3bf5756714932b2ad05f928c0dd851b8e5024226c\r\n",
      "  Stored in directory: /tmp/pip-ephem-wheel-cache-m5xqnrul/wheels/ea/44/3d/89ce0e32ed262cff6c10d0586dc8f82bbb8ba1eeb47863abe5\r\n",
      "Successfully built efficientnet-pytorch-3d\r\n",
      "Installing collected packages: efficientnet-pytorch-3d\r\n",
      "Successfully installed efficientnet-pytorch-3d-0.6.3\r\n",
      "\u001b[33mWARNING: Running pip as the 'root' user can result in broken permissions and conflicting behaviour with the system package manager. It is recommended to use a virtual environment instead: https://pip.pypa.io/warnings/venv\u001b[0m\r\n",
      "Collecting torch-summary\r\n",
      "  Downloading torch_summary-1.4.5-py3-none-any.whl (16 kB)\r\n",
      "Installing collected packages: torch-summary\r\n",
      "Successfully installed torch-summary-1.4.5\r\n",
      "\u001b[33mWARNING: Running pip as the 'root' user can result in broken permissions and conflicting behaviour with the system package manager. It is recommended to use a virtual environment instead: https://pip.pypa.io/warnings/venv\u001b[0m\r\n"
     ]
    }
   ],
   "source": [
    "import numpy as np\n",
    "import pandas as pd\n",
    "import os\n",
    "import pydicom\n",
    "from pydicom.pixel_data_handlers.util import apply_voi_lut\n",
    "import matplotlib.pyplot as plt\n",
    "import seaborn as sns\n",
    "import glob\n",
    "import re\n",
    "!pip install git+https://github.com/shijianjian/EfficientNet-PyTorch-3D\n",
    "!pip install torch-summary\n",
    "import cv2"
   ]
  },
  {
   "cell_type": "code",
   "execution_count": 2,
   "id": "9693cedb",
   "metadata": {
    "execution": {
     "iopub.execute_input": "2022-03-16T20:37:23.624969Z",
     "iopub.status.busy": "2022-03-16T20:37:23.624329Z",
     "iopub.status.idle": "2022-03-16T20:37:23.646952Z",
     "shell.execute_reply": "2022-03-16T20:37:23.645900Z",
     "shell.execute_reply.started": "2022-03-16T20:36:05.858938Z"
    },
    "papermill": {
     "duration": 0.043592,
     "end_time": "2022-03-16T20:37:23.647085",
     "exception": false,
     "start_time": "2022-03-16T20:37:23.603493",
     "status": "completed"
    },
    "tags": []
   },
   "outputs": [],
   "source": [
    "#Organisers have said these are to be ignored\n",
    "exclude = [109, 123, 709]\n",
    "train_csv = pd.read_csv('/kaggle/input/rsna-miccai-brain-tumor-radiogenomic-classification/train_labels.csv')\n",
    "train_csv = train_csv[~train_csv.BraTS21ID.isin(exclude)]"
   ]
  },
  {
   "cell_type": "code",
   "execution_count": 3,
   "id": "4c052eab",
   "metadata": {
    "execution": {
     "iopub.execute_input": "2022-03-16T20:37:23.681768Z",
     "iopub.status.busy": "2022-03-16T20:37:23.681181Z",
     "iopub.status.idle": "2022-03-16T20:37:23.995420Z",
     "shell.execute_reply": "2022-03-16T20:37:23.995920Z",
     "shell.execute_reply.started": "2022-03-16T20:36:05.872444Z"
    },
    "papermill": {
     "duration": 0.334561,
     "end_time": "2022-03-16T20:37:23.996103",
     "exception": false,
     "start_time": "2022-03-16T20:37:23.661542",
     "status": "completed"
    },
    "tags": []
   },
   "outputs": [
    {
     "data": {
      "image/png": "[encoded data removed]",
      "text/plain": [
       "<Figure size 504x504 with 1 Axes>"
      ]
     },
     "metadata": {
      "needs_background": "light"
     },
     "output_type": "display_data"
    }
   ],
   "source": [
    "plt.figure(figsize=(7, 7))\n",
    "sns.countplot(data=train_csv, x=\"MGMT_value\");"
   ]
  },
  {
   "cell_type": "code",
   "execution_count": 4,
   "id": "e3a2e127",
   "metadata": {
    "execution": {
     "iopub.execute_input": "2022-03-16T20:37:24.040169Z",
     "iopub.status.busy": "2022-03-16T20:37:24.038500Z",
     "iopub.status.idle": "2022-03-16T20:37:24.040779Z",
     "shell.execute_reply": "2022-03-16T20:37:24.041204Z",
     "shell.execute_reply.started": "2022-03-16T20:36:06.050661Z"
    },
    "papermill": {
     "duration": 0.030624,
     "end_time": "2022-03-16T20:37:24.041356",
     "exception": false,
     "start_time": "2022-03-16T20:37:24.010732",
     "status": "completed"
    },
    "tags": []
   },
   "outputs": [],
   "source": [
    "NUM_IMAGES = 64\n",
    "mri_types = ['FLAIR','T1w','T1wCE','T2w']\n",
    "SIZE = 256\n",
    "\n",
    "#https://www.kaggle.com/raddar/convert-dicom-to-np-array-the-correct-way\n",
    "\n",
    "def load_dicom(path, voi_lut = True, fix_monochrome = True):\n",
    "    dicom = pydicom.read_file(path)\n",
    "    \n",
    "    # VOI LUT (if available by DICOM device) is used to transform raw DICOM data to \"human-friendly\" view\n",
    "    if voi_lut:\n",
    "        data = apply_voi_lut(dicom.pixel_array, dicom)\n",
    "    else:\n",
    "        data = dicom.pixel_array\n",
    "               \n",
    "    # depending on this value, X-ray may look inverted - fix that:\n",
    "    if fix_monochrome and dicom.PhotometricInterpretation == \"MONOCHROME1\":\n",
    "        data = np.amax(data) - data\n",
    "    \n",
    "    data = cv2.resize(data, (SIZE, SIZE))\n",
    "    data = data.astype(np.float64)\n",
    "        \n",
    "    return data\n",
    "\n",
    "#loads 64 (SIZE) images from a DICOM file from a single MRI type\n",
    "def load_dicom_3d(brats21id, num_imgs=NUM_IMAGES, img_size=SIZE, mri_type=\"FLAIR\", data_split=\"train\"):\n",
    "    patient_path = os.path.join(f\"/kaggle/input/rsna-miccai-brain-tumor-radiogenomic-classification/{data_split}/\", str(brats21id).zfill(5))\n",
    "    x = glob.glob(os.path.join(patient_path, mri_type, \"*\"))\n",
    "    paths = sorted(x, key=lambda x: int(x[:-4].split(\"-\")[-1]))\n",
    "    \n",
    "    middle = len(paths) // 2\n",
    "    num_imgs2 = num_imgs // 2\n",
    "    bottom = max(0, middle - num_imgs2)\n",
    "    top = min(len(paths), middle + num_imgs2)\n",
    "    \n",
    "    image_3d = np.stack([load_dicom(f) for f in paths[bottom:top]]).transpose()\n",
    "    \n",
    "    if image_3d.shape[-1] < num_imgs:\n",
    "        zero_padding = np.zeros((img_size, img_size, abs(num_imgs - image_3d.shape[-1])))\n",
    "        image_3d = np.concatenate((image_3d, zero_padding), axis=-1)\n",
    "    \n",
    "    #normalise data\n",
    "    if np.min(image_3d) < np.max(image_3d):\n",
    "        image_3d = image_3d - np.min(image_3d)\n",
    "        image_3d = image_3d / np.max(image_3d)\n",
    "    return np.expand_dims(image_3d, 0)"
   ]
  },
  {
   "cell_type": "code",
   "execution_count": 5,
   "id": "8f49be1c",
   "metadata": {
    "execution": {
     "iopub.execute_input": "2022-03-16T20:37:24.076022Z",
     "iopub.status.busy": "2022-03-16T20:37:24.075332Z",
     "iopub.status.idle": "2022-03-16T20:37:24.380853Z",
     "shell.execute_reply": "2022-03-16T20:37:24.380365Z",
     "shell.execute_reply.started": "2022-03-16T20:36:06.067037Z"
    },
    "papermill": {
     "duration": 0.324779,
     "end_time": "2022-03-16T20:37:24.380989",
     "exception": false,
     "start_time": "2022-03-16T20:37:24.056210",
     "status": "completed"
    },
    "tags": []
   },
   "outputs": [
    {
     "name": "stdout",
     "output_type": "stream",
     "text": [
      "(1, 256, 256, 64)\n",
      "0.0 1.0 0.06492401325182892 0.0\n"
     ]
    }
   ],
   "source": [
    "a = load_dicom_3d(106)\n",
    "print(a.shape)\n",
    "print(np.min(a), np.max(a), np.mean(a), np.median(a))"
   ]
  },
  {
   "cell_type": "code",
   "execution_count": 6,
   "id": "aedd19cf",
   "metadata": {
    "execution": {
     "iopub.execute_input": "2022-03-16T20:37:24.421885Z",
     "iopub.status.busy": "2022-03-16T20:37:24.421066Z",
     "iopub.status.idle": "2022-03-16T20:37:24.423651Z",
     "shell.execute_reply": "2022-03-16T20:37:24.423227Z",
     "shell.execute_reply.started": "2022-03-16T20:36:06.245354Z"
    },
    "papermill": {
     "duration": 0.026334,
     "end_time": "2022-03-16T20:37:24.423779",
     "exception": false,
     "start_time": "2022-03-16T20:37:24.397445",
     "status": "completed"
    },
    "tags": []
   },
   "outputs": [],
   "source": [
    "# Displays the middle sample of each MRI type for an ID\n",
    "def visualise_sample(brats21id, mgmt_value, types=(\"FLAIR\", \"T1w\", \"T1wCE\", \"T2w\")):\n",
    "    plt.figure(figsize=(16, 5)) \n",
    "    patient_path = os.path.join(\"/kaggle/input/rsna-miccai-brain-tumor-radiogenomic-classification/train/\", str(brats21id).zfill(5))\n",
    "    for i, type in enumerate(types, 1):\n",
    "        x = glob.glob(os.path.join(patient_path, type, \"*\"))\n",
    "        type_paths = sorted(glob.glob(os.path.join(patient_path, type, \"*\")), key=lambda x: int(x[:-4].split(\"-\")[-1]))\n",
    "        data = load_dicom(type_paths[(len(type_paths) // 2)])\n",
    "        plt.subplot(1, 4, i)\n",
    "        plt.imshow(data, cmap=\"gray\")\n",
    "        plt.title(f\"{type}\", fontsize=16)\n",
    "\n",
    "    plt.suptitle(f\"BraTS21ID: {brats21id}  MGMT_value: {mgmt_value}\", fontsize=16)\n",
    "    plt.show()"
   ]
  },
  {
   "cell_type": "code",
   "execution_count": 7,
   "id": "883975f7",
   "metadata": {
    "execution": {
     "iopub.execute_input": "2022-03-16T20:37:24.460803Z",
     "iopub.status.busy": "2022-03-16T20:37:24.460156Z",
     "iopub.status.idle": "2022-03-16T20:37:25.152813Z",
     "shell.execute_reply": "2022-03-16T20:37:25.153267Z",
     "shell.execute_reply.started": "2022-03-16T20:36:06.256656Z"
    },
    "papermill": {
     "duration": 0.714455,
     "end_time": "2022-03-16T20:37:25.153424",
     "exception": false,
     "start_time": "2022-03-16T20:37:24.438969",
     "status": "completed"
    },
    "tags": []
   },
   "outputs": [
    {
     "data": {
      "image/png": "[encoded data removed]",
      "text/plain": [
       "<Figure size 1152x360 with 4 Axes>"
      ]
     },
     "metadata": {
      "needs_background": "light"
     },
     "output_type": "display_data"
    }
   ],
   "source": [
    "random_sample = train_csv.sample(n=1).values\n",
    "random_sample_ID = random_sample[0][0]\n",
    "random_sample_MGMT = random_sample[0][1]\n",
    "visualise_sample(random_sample_ID, random_sample_MGMT)"
   ]
  },
  {
   "cell_type": "code",
   "execution_count": 8,
   "id": "ec7dff89",
   "metadata": {
    "execution": {
     "iopub.execute_input": "2022-03-16T20:37:25.193566Z",
     "iopub.status.busy": "2022-03-16T20:37:25.192868Z",
     "iopub.status.idle": "2022-03-16T20:37:26.731327Z",
     "shell.execute_reply": "2022-03-16T20:37:26.730317Z",
     "shell.execute_reply.started": "2022-03-16T20:36:07.086076Z"
    },
    "papermill": {
     "duration": 1.560634,
     "end_time": "2022-03-16T20:37:26.731517",
     "exception": false,
     "start_time": "2022-03-16T20:37:25.170883",
     "status": "completed"
    },
    "tags": []
   },
   "outputs": [],
   "source": [
    "efficientnet_path = \"../input/efficientnetpyttorch3d/EfficientNet-PyTorch-3D\"\n",
    "\n",
    "from efficientnet_pytorch_3d import EfficientNet3D\n",
    "\n",
    "import torch\n",
    "from torch import nn\n",
    "torch.set_default_dtype(torch.float64)\n",
    "\n",
    "#dataset splitting\n",
    "from sklearn import model_selection as sk_model_selection\n",
    "\n",
    "#convolutional\n",
    "from torch.nn import functional as torch_functional"
   ]
  },
  {
   "cell_type": "code",
   "execution_count": 9,
   "id": "f8e3ee2e",
   "metadata": {
    "execution": {
     "iopub.execute_input": "2022-03-16T20:37:26.772078Z",
     "iopub.status.busy": "2022-03-16T20:37:26.771457Z",
     "iopub.status.idle": "2022-03-16T20:37:26.783452Z",
     "shell.execute_reply": "2022-03-16T20:37:26.782788Z",
     "shell.execute_reply.started": "2022-03-16T20:36:07.093425Z"
    },
    "papermill": {
     "duration": 0.034153,
     "end_time": "2022-03-16T20:37:26.783625",
     "exception": false,
     "start_time": "2022-03-16T20:37:26.749472",
     "status": "completed"
    },
    "tags": []
   },
   "outputs": [
    {
     "name": "stdout",
     "output_type": "stream",
     "text": [
      "     BraTS21ID  MGMT_value\n",
      "62          98           1\n",
      "170        251           0\n",
      "365        539           1\n",
      "566        830           0\n",
      "489        714           1\n",
      "..         ...         ...\n",
      "541        794           1\n",
      "181        269           0\n",
      "120        183           0\n",
      "162        241           0\n",
      "157        236           0\n",
      "\n",
      "[436 rows x 2 columns]\n"
     ]
    }
   ],
   "source": [
    "train, valid = sk_model_selection.train_test_split(train_csv, random_state=3220, stratify=train_csv[\"MGMT_value\"],)\n",
    "print(train)"
   ]
  },
  {
   "cell_type": "code",
   "execution_count": 10,
   "id": "994e8458",
   "metadata": {
    "execution": {
     "iopub.execute_input": "2022-03-16T20:37:26.829548Z",
     "iopub.status.busy": "2022-03-16T20:37:26.828865Z",
     "iopub.status.idle": "2022-03-16T20:37:26.831528Z",
     "shell.execute_reply": "2022-03-16T20:37:26.832013Z",
     "shell.execute_reply.started": "2022-03-16T20:36:07.111669Z"
    },
    "papermill": {
     "duration": 0.029211,
     "end_time": "2022-03-16T20:37:26.832167",
     "exception": false,
     "start_time": "2022-03-16T20:37:26.802956",
     "status": "completed"
    },
    "tags": []
   },
   "outputs": [],
   "source": [
    "class Dataset(torch.utils.data.Dataset):\n",
    "    def __init__(self, image_IDs, targets, mri_type, split=\"train\"):\n",
    "        self.image_IDs = image_IDs\n",
    "        self.targets = targets\n",
    "        self.mri_type = mri_type\n",
    "        self.split = split\n",
    "        \n",
    "    def __len__(self):\n",
    "        return len(self.image_IDs)\n",
    "    \n",
    "    def __getitem__(self, i: int):\n",
    "        image_num = self.image_IDs[i]\n",
    "        #targets is None when not dealing with a train split\n",
    "        if self.targets is not None:\n",
    "            data = load_dicom_3d(image_num)\n",
    "        else:\n",
    "            data = load_dicom_3d(image_num, split=self.split)\n",
    "        \n",
    "        if self.targets is not None:\n",
    "            return {\"X\": data, \"y\": torch.tensor(self.targets[i], dtype=torch.float64)}\n",
    "        else:\n",
    "            return {\"X\": torch.tensor(data, dtype=torch.float64), \"id\": image_num}"
   ]
  },
  {
   "cell_type": "code",
   "execution_count": 11,
   "id": "4b56b4bb",
   "metadata": {
    "execution": {
     "iopub.execute_input": "2022-03-16T20:37:26.876233Z",
     "iopub.status.busy": "2022-03-16T20:37:26.872619Z",
     "iopub.status.idle": "2022-03-16T20:37:26.878889Z",
     "shell.execute_reply": "2022-03-16T20:37:26.878323Z",
     "shell.execute_reply.started": "2022-03-16T20:36:07.121340Z"
    },
    "papermill": {
     "duration": 0.029249,
     "end_time": "2022-03-16T20:37:26.879028",
     "exception": false,
     "start_time": "2022-03-16T20:37:26.849779",
     "status": "completed"
    },
    "tags": []
   },
   "outputs": [],
   "source": [
    "class Model(nn.Module):\n",
    "    def __init__(self):\n",
    "        super(Model, self).__init__()\n",
    "        #create a network using efficientnet-b0, that has 2 output classes (MGMT 1/0) and 1 input channel as it is greyscale\n",
    "        self.network = EfficientNet3D.from_name(\"efficientnet-b0\", override_params={'num_classes': 2}, in_channels=1)\n",
    "        #classifier\n",
    "        self.network._fc = nn.Linear(in_features=self.network._fc.in_features, out_features=1, bias=True)\n",
    "        \n",
    "    def forward(self, x):\n",
    "        out = self.network(x)\n",
    "        return out"
   ]
  },
  {
   "cell_type": "code",
   "execution_count": 12,
   "id": "64d80980",
   "metadata": {
    "execution": {
     "iopub.execute_input": "2022-03-16T20:37:26.934703Z",
     "iopub.status.busy": "2022-03-16T20:37:26.932701Z",
     "iopub.status.idle": "2022-03-16T20:37:26.935434Z",
     "shell.execute_reply": "2022-03-16T20:37:26.935916Z",
     "shell.execute_reply.started": "2022-03-16T20:36:07.133609Z"
    },
    "papermill": {
     "duration": 0.039016,
     "end_time": "2022-03-16T20:37:26.936073",
     "exception": false,
     "start_time": "2022-03-16T20:37:26.897057",
     "status": "completed"
    },
    "tags": []
   },
   "outputs": [],
   "source": [
    "import time\n",
    "from sklearn.metrics import roc_auc_score\n",
    "class Trainer:\n",
    "    def __init__(self, model, device, optimizer, criterion):\n",
    "        self.model = model\n",
    "        self.device = device\n",
    "        self.optimizer = optimizer\n",
    "        self.criterion = criterion\n",
    "        \n",
    "    def fit(self, epochs, train_loader, valid_loader):\n",
    "        for epoch_n in range(1, epochs + 1):\n",
    "            print(f\"Epoch {epoch_n}\")\n",
    "            train_loss = self.train_one_epoch(train_loader)\n",
    "            valid_loss = self.validate_one_epoch(valid_loader)\n",
    "            print(\"Training loss: \", train_loss)\n",
    "            print(\"Validation loss: \", valid_loss)\n",
    "                    \n",
    "    def train_one_epoch(self, train_dataloader):\n",
    "        sum_loss = 0\n",
    "        self.model.train()\n",
    "        time_start = time.time()\n",
    "        for step, batch in enumerate(train_dataloader, 1):\n",
    "            print(\"Step: \", step, end='\\r')\n",
    "            ids = batch[\"X\"].to(self.device)\n",
    "            targets = batch[\"y\"].to(self.device)\n",
    "            self.optimizer.zero_grad()\n",
    "            outputs = self.model(ids).squeeze(1)\n",
    "            \n",
    "            loss = self.criterion(outputs, targets)\n",
    "            loss.backward()\n",
    "\n",
    "            sum_loss += loss.detach().item()\n",
    "\n",
    "            self.optimizer.step()\n",
    "        print(time.time() - time_start)\n",
    "        return sum_loss/len(train_dataloader)\n",
    "    \n",
    "    def validate_one_epoch(self, valid_dataloader):\n",
    "        #set model up for evaluation, disables dropout layers etc.\n",
    "        self.model.eval()\n",
    "        sum_loss = 0\n",
    "        all_outputs = []\n",
    "        all_targets = []\n",
    "        time_start = time.time()\n",
    "        for step, batch in enumerate(valid_dataloader, 1):\n",
    "            #deactivate autograd\n",
    "            with torch.no_grad():\n",
    "                X = batch[\"X\"].to(self.device)\n",
    "                targets = batch[\"y\"].to(self.device)\n",
    "                \n",
    "                outputs = self.model(X).squeeze(1)\n",
    "                loss = self.criterion(outputs, targets)\n",
    "                \n",
    "                sum_loss += loss.detach().item()\n",
    "                all_targets.extend(batch[\"y\"].tolist())\n",
    "                all_outputs.extend(torch.sigmoid(outputs).tolist())\n",
    "                \n",
    "        for x in all_targets:\n",
    "            if x > 0.5:\n",
    "                x = 1\n",
    "            else:\n",
    "                x = 0\n",
    "        auc = roc_auc_score(all_targets, all_outputs)\n",
    "        print(\"Time: \", time.time() - time_start, \"AUC: \", auc)\n",
    "        return sum_loss/len(valid_dataloader)  "
   ]
  },
  {
   "cell_type": "code",
   "execution_count": 13,
   "id": "bc8f43a1",
   "metadata": {
    "execution": {
     "iopub.execute_input": "2022-03-16T20:37:26.984996Z",
     "iopub.status.busy": "2022-03-16T20:37:26.984083Z",
     "iopub.status.idle": "2022-03-16T20:37:26.989567Z",
     "shell.execute_reply": "2022-03-16T20:37:26.989994Z",
     "shell.execute_reply.started": "2022-03-16T20:36:07.151087Z"
    },
    "papermill": {
     "duration": 0.033987,
     "end_time": "2022-03-16T20:37:26.990148",
     "exception": false,
     "start_time": "2022-03-16T20:37:26.956161",
     "status": "completed"
    },
    "tags": []
   },
   "outputs": [],
   "source": [
    "from torchsummary import summary\n",
    "\n",
    "def train_model(train, valid, mri_type):\n",
    "    device = torch.device(\"cuda\" if torch.cuda.is_available() else \"cpu\")\n",
    "    train_dataset = Dataset(\n",
    "        train[\"BraTS21ID\"].values, \n",
    "        train[\"MGMT_value\"].values, \n",
    "        \"FLAIR\"\n",
    "    )\n",
    "\n",
    "    train_loader = torch.utils.data.DataLoader(\n",
    "            train_dataset,\n",
    "            batch_size=4,\n",
    "            shuffle=True,\n",
    "            num_workers=2,pin_memory = True\n",
    "    )\n",
    "    \n",
    "    valid_dataset = Dataset(\n",
    "        valid[\"BraTS21ID\"].values, \n",
    "        valid[\"MGMT_value\"].values, \n",
    "        \"FLAIR\"\n",
    "    )\n",
    "\n",
    "    valid_loader = torch.utils.data.DataLoader(\n",
    "            valid_dataset,\n",
    "            batch_size=4,\n",
    "            shuffle=True,\n",
    "            num_workers=2,pin_memory = True\n",
    "    )\n",
    "    \n",
    "    model = Model()\n",
    "    model.to(device)\n",
    "    summary(model, input_size=(1, 256, 256, 64))\n",
    "    optimiser = torch.optim.Adam(model.parameters(), lr=0.001)\n",
    "    criterion = torch_functional.binary_cross_entropy_with_logits\n",
    "\n",
    "    trainer = Trainer(model, device, optimiser, criterion)\n",
    "    history = trainer.fit(10, train_loader, valid_loader)\n",
    "    \n",
    "    "
   ]
  },
  {
   "cell_type": "code",
   "execution_count": 14,
   "id": "7971be16",
   "metadata": {
    "execution": {
     "iopub.execute_input": "2022-03-16T20:37:27.086246Z",
     "iopub.status.busy": "2022-03-16T20:37:27.085328Z",
     "iopub.status.idle": "2022-03-16T21:15:12.037128Z",
     "shell.execute_reply": "2022-03-16T21:15:12.037609Z",
     "shell.execute_reply.started": "2022-03-16T20:36:07.164016Z"
    },
    "papermill": {
     "duration": 2265.030323,
     "end_time": "2022-03-16T21:15:12.037816",
     "exception": false,
     "start_time": "2022-03-16T20:37:27.007493",
     "status": "completed"
    },
    "tags": []
   },
   "outputs": [
    {
     "name": "stdout",
     "output_type": "stream",
     "text": [
      "================================================================================\n",
      "Layer (type:depth-idx)                                  Param #\n",
      "================================================================================\n",
      "├─EfficientNet3D: 1-1                                   --\n",
      "|    └─Conv3dStaticSamePadding: 2-1                     --\n",
      "|    |    └─ZeroPad2d: 3-1                              --\n",
      "|    └─BatchNorm3d: 2-2                                 64\n",
      "|    └─ModuleList: 2-3                                  --\n",
      "|    |    └─MBConvBlock3D: 3-2                          2,024\n",
      "|    |    └─MBConvBlock3D: 3-3                          7,732\n",
      "|    |    └─MBConvBlock3D: 3-4                          13,302\n",
      "|    |    └─MBConvBlock3D: 3-5                          29,750\n",
      "|    |    └─MBConvBlock3D: 3-6                          55,290\n",
      "|    |    └─MBConvBlock3D: 3-7                          41,450\n",
      "|    |    └─MBConvBlock3D: 3-8                          111,540\n",
      "|    |    └─MBConvBlock3D: 3-9                          111,540\n",
      "|    |    └─MBConvBlock3D: 3-10                         174,004\n",
      "|    |    └─MBConvBlock3D: 3-11                         275,772\n",
      "|    |    └─MBConvBlock3D: 3-12                         275,772\n",
      "|    |    └─MBConvBlock3D: 3-13                         329,692\n",
      "|    |    └─MBConvBlock3D: 3-14                         703,152\n",
      "|    |    └─MBConvBlock3D: 3-15                         703,152\n",
      "|    |    └─MBConvBlock3D: 3-16                         703,152\n",
      "|    |    └─MBConvBlock3D: 3-17                         737,968\n",
      "|    └─Conv3dStaticSamePadding: 2-4                     --\n",
      "|    |    └─Identity: 3-18                              --\n",
      "|    └─BatchNorm3d: 2-5                                 2,560\n",
      "|    └─AdaptiveAvgPool3d: 2-6                           --\n",
      "|    └─Dropout: 2-7                                     --\n",
      "|    └─Linear: 2-8                                      1,281\n",
      "|    └─MemoryEfficientSwish: 2-9                        --\n",
      "================================================================================\n",
      "Total params: 4,279,197\n",
      "Trainable params: 4,279,197\n",
      "Non-trainable params: 0\n",
      "================================================================================\n",
      "Epoch 1\n",
      "196.15046954154968\n",
      "Time:  64.78361368179321 AUC:  0.45529832486354227\n",
      "Training loss:  0.7708442400887324\n",
      "Validation loss:  0.7015158062794775\n",
      "Epoch 2\n",
      "165.02560329437256\n",
      "Time:  58.63791036605835 AUC:  0.5379258422736684\n",
      "Training loss:  0.7140019136510242\n",
      "Validation loss:  0.7264495845029267\n",
      "Epoch 3\n",
      "163.9250979423523\n",
      "Time:  57.40290069580078 AUC:  0.5128929041972521\n",
      "Training loss:  0.7126917473401225\n",
      "Validation loss:  0.7010531341288141\n",
      "Epoch 4\n",
      "164.63427305221558\n",
      "Time:  57.4752402305603 AUC:  0.47430830039525684\n",
      "Training loss:  0.6992143360866362\n",
      "Validation loss:  1.2126694357477132\n",
      "Epoch 5\n",
      "164.8546953201294\n",
      "Time:  56.84651494026184 AUC:  0.5398080180688876\n",
      "Training loss:  0.697030464218432\n",
      "Validation loss:  0.7972868326666223\n",
      "Epoch 6\n",
      "164.17898988723755\n",
      "Time:  56.66696286201477 AUC:  0.4865424430641822\n",
      "Training loss:  0.6979363728253152\n",
      "Validation loss:  1.1775787434502312\n",
      "Epoch 7\n",
      "165.5305733680725\n",
      "Time:  57.28777885437012 AUC:  0.497459062676454\n",
      "Training loss:  0.7010577186657198\n",
      "Validation loss:  0.6915038257278673\n",
      "Epoch 8\n",
      "165.55128931999207\n",
      "Time:  57.94895529747009 AUC:  0.4526632787502354\n",
      "Training loss:  0.692193211625079\n",
      "Validation loss:  1.4001808384436252\n",
      "Epoch 9\n",
      "166.44070267677307\n",
      "Time:  57.58505892753601 AUC:  0.47939017504234893\n",
      "Training loss:  0.6988675999746842\n",
      "Validation loss:  0.6889762906244733\n",
      "Epoch 10\n",
      "164.24549198150635\n",
      "Time:  56.219722032547 AUC:  0.4744965179747788\n",
      "Training loss:  0.6960945637930851\n",
      "Validation loss:  1.7830861668132634\n"
     ]
    }
   ],
   "source": [
    "train_model(train, valid, \"FLAIR\")"
   ]
  }
 ],
 "metadata": {
  "kernelspec": {
   "display_name": "Python 3",
   "language": "python",
   "name": "python3"
  },
  "language_info": {
   "codemirror_mode": {
    "name": "ipython",
    "version": 3
   },
   "file_extension": ".py",
   "mimetype": "text/x-python",
   "name": "python",
   "nbconvert_exporter": "python",
   "pygments_lexer": "ipython3",
   "version": "3.7.10"
  },
  "papermill": {
   "default_parameters": {},
   "duration": 2300.588764,
   "end_time": "2022-03-16T21:15:14.360436",
   "environment_variables": {},
   "exception": null,
   "input_path": "__notebook__.ipynb",
   "output_path": "__notebook__.ipynb",
   "parameters": {},
   "start_time": "2022-03-16T20:36:53.771672",
   "version": "2.3.3"
  }
 },
 "nbformat": 4,
 "nbformat_minor": 5
}
