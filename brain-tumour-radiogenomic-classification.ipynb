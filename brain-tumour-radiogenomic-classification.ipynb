{
 "cells": [
  {
   "cell_type": "code",
   "execution_count": 1,
   "id": "5d2c8312",
   "metadata": {
    "_cell_guid": "b1076dfc-b9ad-4769-8c92-a6c4dae69d19",
    "_uuid": "8f2839f25d086af736a60e9eeb907d3b93b6e0e5",
    "execution": {
     "iopub.execute_input": "2022-04-21T01:11:38.044609Z",
     "iopub.status.busy": "2022-04-21T01:11:38.043097Z",
     "iopub.status.idle": "2022-04-21T01:11:38.852037Z",
     "shell.execute_reply": "2022-04-21T01:11:38.851356Z",
     "shell.execute_reply.started": "2022-04-21T01:10:07.611246Z"
    },
    "papermill": {
     "duration": 0.830584,
     "end_time": "2022-04-21T01:11:38.852188",
     "exception": false,
     "start_time": "2022-04-21T01:11:38.021604",
     "status": "completed"
    },
    "tags": []
   },
   "outputs": [],
   "source": [
    "import numpy as np\n",
    "import pandas as pd\n",
    "import os\n",
    "import pydicom\n",
    "from pydicom.pixel_data_handlers.util import apply_voi_lut\n",
    "import matplotlib.pyplot as plt\n",
    "import seaborn as sns\n",
    "import glob\n",
    "import re\n",
    "import sys\n",
    "#!pip install git+https://github.com/shijianjian/EfficientNet-PyTorch-3D\n",
    "#!pip install torch-summary\n",
    "import cv2"
   ]
  },
  {
   "cell_type": "code",
   "execution_count": 2,
   "id": "ec45aaa7",
   "metadata": {
    "execution": {
     "iopub.execute_input": "2022-04-21T01:11:38.892358Z",
     "iopub.status.busy": "2022-04-21T01:11:38.890721Z",
     "iopub.status.idle": "2022-04-21T01:11:38.893057Z",
     "shell.execute_reply": "2022-04-21T01:11:38.893499Z",
     "shell.execute_reply.started": "2022-04-21T01:10:07.623602Z"
    },
    "papermill": {
     "duration": 0.023565,
     "end_time": "2022-04-21T01:11:38.893630",
     "exception": false,
     "start_time": "2022-04-21T01:11:38.870065",
     "status": "completed"
    },
    "tags": []
   },
   "outputs": [],
   "source": [
    "files = glob.glob('/kaggle/working/*')\n",
    "for f in files:\n",
    "    os.remove(f)"
   ]
  },
  {
   "cell_type": "code",
   "execution_count": 3,
   "id": "afe7c690",
   "metadata": {
    "execution": {
     "iopub.execute_input": "2022-04-21T01:11:38.930788Z",
     "iopub.status.busy": "2022-04-21T01:11:38.930051Z",
     "iopub.status.idle": "2022-04-21T01:11:38.932405Z",
     "shell.execute_reply": "2022-04-21T01:11:38.931920Z",
     "shell.execute_reply.started": "2022-04-21T01:10:07.633842Z"
    },
    "papermill": {
     "duration": 0.022091,
     "end_time": "2022-04-21T01:11:38.932531",
     "exception": false,
     "start_time": "2022-04-21T01:11:38.910440",
     "status": "completed"
    },
    "tags": []
   },
   "outputs": [],
   "source": [
    "sys.path.append(\"../input/efficientnetpyttorch3d/EfficientNet-PyTorch-3D\")"
   ]
  },
  {
   "cell_type": "code",
   "execution_count": 4,
   "id": "c6539d98",
   "metadata": {
    "execution": {
     "iopub.execute_input": "2022-04-21T01:11:38.971169Z",
     "iopub.status.busy": "2022-04-21T01:11:38.970302Z",
     "iopub.status.idle": "2022-04-21T01:11:38.991699Z",
     "shell.execute_reply": "2022-04-21T01:11:38.991220Z",
     "shell.execute_reply.started": "2022-04-21T01:10:07.643650Z"
    },
    "papermill": {
     "duration": 0.042603,
     "end_time": "2022-04-21T01:11:38.991816",
     "exception": false,
     "start_time": "2022-04-21T01:11:38.949213",
     "status": "completed"
    },
    "tags": []
   },
   "outputs": [],
   "source": [
    "#Organisers have said these are to be ignored\n",
    "exclude = [109, 123, 709]\n",
    "train_csv = pd.read_csv('/kaggle/input/rsna-miccai-brain-tumor-radiogenomic-classification/train_labels.csv')\n",
    "train_csv = train_csv[~train_csv.BraTS21ID.isin(exclude)]"
   ]
  },
  {
   "cell_type": "code",
   "execution_count": 5,
   "id": "1c2c16b4",
   "metadata": {
    "execution": {
     "iopub.execute_input": "2022-04-21T01:11:39.034299Z",
     "iopub.status.busy": "2022-04-21T01:11:39.031813Z",
     "iopub.status.idle": "2022-04-21T01:11:39.317216Z",
     "shell.execute_reply": "2022-04-21T01:11:39.317696Z",
     "shell.execute_reply.started": "2022-04-21T01:10:07.662467Z"
    },
    "papermill": {
     "duration": 0.308577,
     "end_time": "2022-04-21T01:11:39.317857",
     "exception": false,
     "start_time": "2022-04-21T01:11:39.009280",
     "status": "completed"
    },
    "tags": []
   },
   "outputs": [
    {
     "data": {
      "text/plain": [
       "<AxesSubplot:xlabel='MGMT_value', ylabel='count'>"
      ]
     },
     "execution_count": 5,
     "metadata": {},
     "output_type": "execute_result"
    },
    {
     "data": {
      "image/png": "[encoded data removed]",
      "text/plain": [
       "<Figure size 504x504 with 1 Axes>"
      ]
     },
     "metadata": {
      "needs_background": "light"
     },
     "output_type": "display_data"
    }
   ],
   "source": [
    "plt.figure(figsize=(7, 7))\n",
    "sns.countplot(data=train_csv, x=\"MGMT_value\")"
   ]
  },
  {
   "cell_type": "code",
   "execution_count": 6,
   "id": "03d7898c",
   "metadata": {
    "execution": {
     "iopub.execute_input": "2022-04-21T01:11:39.355981Z",
     "iopub.status.busy": "2022-04-21T01:11:39.355150Z",
     "iopub.status.idle": "2022-04-21T01:11:39.368337Z",
     "shell.execute_reply": "2022-04-21T01:11:39.368763Z",
     "shell.execute_reply.started": "2022-04-21T01:10:07.855952Z"
    },
    "papermill": {
     "duration": 0.033485,
     "end_time": "2022-04-21T01:11:39.368894",
     "exception": false,
     "start_time": "2022-04-21T01:11:39.335409",
     "status": "completed"
    },
    "tags": []
   },
   "outputs": [],
   "source": [
    "NUM_IMAGES = 64\n",
    "mri_types = ['FLAIR','T1w','T1wCE','T2w']\n",
    "SIZE = 260\n",
    "\n",
    "#https://www.kaggle.com/raddar/convert-dicom-to-np-array-the-correct-way\n",
    "\n",
    "def load_dicom(path, voi_lut = True, fix_monochrome = True, augment=False, rotation_choice=0):\n",
    "    dicom = pydicom.read_file(path)\n",
    "    # VOI LUT (if available by DICOM device) is used to transform raw DICOM data to \"human-friendly\" view\n",
    "    if voi_lut:\n",
    "        data = apply_voi_lut(dicom.pixel_array, dicom)\n",
    "    else:\n",
    "        data = dicom.pixel_array\n",
    "    # MONOCHROME1 means that the brightness decreases as the value increases\n",
    "    # This would lead to inverted images, so we reverse this\n",
    "    if fix_monochrome and dicom.PhotometricInterpretation == \"MONOCHROME1\":\n",
    "        data = np.amax(data) - data\n",
    "    \n",
    "    if augment:\n",
    "        rotation_choices = [0, cv2.ROTATE_90_CLOCKWISE, cv2.ROTATE_90_COUNTERCLOCKWISE, cv2.ROTATE_180]\n",
    "        \n",
    "        rotation = rotation_choices[rotation_choice]\n",
    "        data = cv2.rotate(data, rotation)\n",
    "    \n",
    "    data = cv2.resize(data, (SIZE, SIZE))\n",
    "    data = data.astype(np.float64)\n",
    "    return data\n",
    "\n",
    "#loads 64 (SIZE) images from a DICOM file from a single MRI type\n",
    "def load_dicom_3d(brats21id, mri_type, num_imgs=NUM_IMAGES, img_size=SIZE, data_split=\"train\", augment=False):\n",
    "    patient_path = os.path.join(f\"/kaggle/input/rsna-miccai-brain-tumor-radiogenomic-classification/{data_split}/\", str(brats21id).zfill(5))\n",
    "    x = glob.glob(os.path.join(patient_path, mri_type, \"*\"))\n",
    "    paths = sorted(x, key=lambda x: int(x[:-4].split(\"-\")[-1]))\n",
    "    middle = len(paths) // 2\n",
    "    num_imgs2 = num_imgs // 2\n",
    "    bottom = max(0, middle - num_imgs2)\n",
    "    top = min(len(paths), middle + num_imgs2)\n",
    "    \n",
    "    rotation_choice = 0\n",
    "    if augment:\n",
    "        rotation_choice = np.random.randint(0,4)\n",
    "        \n",
    "    image_3d = np.stack([load_dicom(f, augment=augment, rotation_choice=rotation_choice) for f in paths[bottom:top]]).transpose()\n",
    "    \n",
    "    if image_3d.shape[-1] < num_imgs:\n",
    "        zero_padding = np.zeros((img_size, img_size, abs(num_imgs - image_3d.shape[-1])))\n",
    "        image_3d = np.concatenate((image_3d, zero_padding), axis=-1)\n",
    "    \n",
    "    #normalise data\n",
    "    if np.min(image_3d) < np.max(image_3d):\n",
    "        image_3d = image_3d - np.min(image_3d)\n",
    "        image_3d = image_3d / np.max(image_3d)\n",
    "    return np.expand_dims(image_3d, 0)"
   ]
  },
  {
   "cell_type": "code",
   "execution_count": 7,
   "id": "c0ac1ec8",
   "metadata": {
    "execution": {
     "iopub.execute_input": "2022-04-21T01:11:39.408109Z",
     "iopub.status.busy": "2022-04-21T01:11:39.407581Z",
     "iopub.status.idle": "2022-04-21T01:11:40.669343Z",
     "shell.execute_reply": "2022-04-21T01:11:40.668661Z",
     "shell.execute_reply.started": "2022-04-21T01:10:08.102776Z"
    },
    "papermill": {
     "duration": 1.28324,
     "end_time": "2022-04-21T01:11:40.669525",
     "exception": false,
     "start_time": "2022-04-21T01:11:39.386285",
     "status": "completed"
    },
    "tags": []
   },
   "outputs": [
    {
     "name": "stdout",
     "output_type": "stream",
     "text": [
      "(1, 260, 260, 64)\n",
      "0.0 1.0 0.05689695408977306 0.00010092854259183485\n"
     ]
    }
   ],
   "source": [
    "a = load_dicom_3d(9, \"T1wCE\")\n",
    "print(a.shape)\n",
    "print(np.min(a), np.max(a), np.mean(a), np.median(a))"
   ]
  },
  {
   "cell_type": "code",
   "execution_count": 8,
   "id": "af50c748",
   "metadata": {
    "execution": {
     "iopub.execute_input": "2022-04-21T01:11:40.748303Z",
     "iopub.status.busy": "2022-04-21T01:11:40.747438Z",
     "iopub.status.idle": "2022-04-21T01:11:40.752146Z",
     "shell.execute_reply": "2022-04-21T01:11:40.752560Z",
     "shell.execute_reply.started": "2022-04-21T01:10:08.707778Z"
    },
    "papermill": {
     "duration": 0.052371,
     "end_time": "2022-04-21T01:11:40.752700",
     "exception": false,
     "start_time": "2022-04-21T01:11:40.700329",
     "status": "completed"
    },
    "tags": []
   },
   "outputs": [],
   "source": [
    "# Displays the middle sample of each MRI type for an ID\n",
    "def visualise_sample(brats21id, mgmt_value, types=(\"FLAIR\", \"T1w\", \"T1wCE\", \"T2w\")):\n",
    "    plt.figure(figsize=(16, 5)) \n",
    "    patient_path = os.path.join(\"/kaggle/input/rsna-miccai-brain-tumor-radiogenomic-classification/train/\", str(brats21id).zfill(5))\n",
    "    for i, type in enumerate(types, 1):\n",
    "        x = glob.glob(os.path.join(patient_path, type, \"*\"))\n",
    "        type_paths = sorted(glob.glob(os.path.join(patient_path, type, \"*\")), key=lambda x: int(x[:-4].split(\"-\")[-1]))\n",
    "        data = load_dicom(type_paths[(len(type_paths) // 2)])\n",
    "        plt.subplot(1, 4, i)\n",
    "        plt.imshow(data, cmap=\"gray\")\n",
    "        plt.title(f\"{type}\", fontsize=16)\n",
    "\n",
    "    plt.suptitle(f\"BraTS21ID: {brats21id}  MGMT_value: {mgmt_value}\", fontsize=16)\n",
    "    plt.show()"
   ]
  },
  {
   "cell_type": "code",
   "execution_count": 9,
   "id": "751d436c",
   "metadata": {
    "execution": {
     "iopub.execute_input": "2022-04-21T01:11:40.794067Z",
     "iopub.status.busy": "2022-04-21T01:11:40.793233Z",
     "iopub.status.idle": "2022-04-21T01:11:41.442530Z",
     "shell.execute_reply": "2022-04-21T01:11:41.442950Z",
     "shell.execute_reply.started": "2022-04-21T01:10:08.718465Z"
    },
    "papermill": {
     "duration": 0.672694,
     "end_time": "2022-04-21T01:11:41.443094",
     "exception": false,
     "start_time": "2022-04-21T01:11:40.770400",
     "status": "completed"
    },
    "tags": []
   },
   "outputs": [
    {
     "data": {
      "image/png": "[encoded data removed]",
      "text/plain": [
       "<Figure size 1152x360 with 4 Axes>"
      ]
     },
     "metadata": {
      "needs_background": "light"
     },
     "output_type": "display_data"
    }
   ],
   "source": [
    "random_sample = train_csv.sample(n=1).values\n",
    "random_sample_ID = random_sample[0][0]\n",
    "random_sample_MGMT = random_sample[0][1]\n",
    "visualise_sample(1002, random_sample_MGMT)"
   ]
  },
  {
   "cell_type": "code",
   "execution_count": 10,
   "id": "e00c8786",
   "metadata": {
    "execution": {
     "iopub.execute_input": "2022-04-21T01:11:41.488613Z",
     "iopub.status.busy": "2022-04-21T01:11:41.488012Z",
     "iopub.status.idle": "2022-04-21T01:11:42.763017Z",
     "shell.execute_reply": "2022-04-21T01:11:42.766123Z",
     "shell.execute_reply.started": "2022-04-21T01:10:09.258067Z"
    },
    "papermill": {
     "duration": 1.303419,
     "end_time": "2022-04-21T01:11:42.766364",
     "exception": false,
     "start_time": "2022-04-21T01:11:41.462945",
     "status": "completed"
    },
    "tags": []
   },
   "outputs": [],
   "source": [
    "from efficientnet_pytorch_3d import EfficientNet3D\n",
    "from efficientnet_pytorch_3d.utils import Conv3dStaticSamePadding\n",
    "\n",
    "import torch\n",
    "from torch import nn\n",
    "torch.set_default_dtype(torch.float64)\n",
    "\n",
    "#dataset splitting\n",
    "from sklearn import model_selection as sk_model_selection\n",
    "\n",
    "#convolutional\n",
    "from torch.nn import functional as torch_functional"
   ]
  },
  {
   "cell_type": "code",
   "execution_count": 11,
   "id": "f7f08db4",
   "metadata": {
    "execution": {
     "iopub.execute_input": "2022-04-21T01:11:42.850652Z",
     "iopub.status.busy": "2022-04-21T01:11:42.850014Z",
     "iopub.status.idle": "2022-04-21T01:11:42.871777Z",
     "shell.execute_reply": "2022-04-21T01:11:42.872662Z",
     "shell.execute_reply.started": "2022-04-21T01:10:09.265695Z"
    },
    "papermill": {
     "duration": 0.068161,
     "end_time": "2022-04-21T01:11:42.872893",
     "exception": false,
     "start_time": "2022-04-21T01:11:42.804732",
     "status": "completed"
    },
    "tags": []
   },
   "outputs": [
    {
     "data": {
      "text/html": [
       "<div>\n",
       "<style scoped>\n",
       "    .dataframe tbody tr th:only-of-type {\n",
       "        vertical-align: middle;\n",
       "    }\n",
       "\n",
       "    .dataframe tbody tr th {\n",
       "        vertical-align: top;\n",
       "    }\n",
       "\n",
       "    .dataframe thead th {\n",
       "        text-align: right;\n",
       "    }\n",
       "</style>\n",
       "<table border=\"1\" class=\"dataframe\">\n",
       "  <thead>\n",
       "    <tr style=\"text-align: right;\">\n",
       "      <th></th>\n",
       "      <th>BraTS21ID</th>\n",
       "      <th>MGMT_value</th>\n",
       "    </tr>\n",
       "  </thead>\n",
       "  <tbody>\n",
       "    <tr>\n",
       "      <th>215</th>\n",
       "      <td>313</td>\n",
       "      <td>1</td>\n",
       "    </tr>\n",
       "    <tr>\n",
       "      <th>582</th>\n",
       "      <td>1008</td>\n",
       "      <td>1</td>\n",
       "    </tr>\n",
       "    <tr>\n",
       "      <th>112</th>\n",
       "      <td>167</td>\n",
       "      <td>0</td>\n",
       "    </tr>\n",
       "    <tr>\n",
       "      <th>28</th>\n",
       "      <td>45</td>\n",
       "      <td>0</td>\n",
       "    </tr>\n",
       "    <tr>\n",
       "      <th>230</th>\n",
       "      <td>334</td>\n",
       "      <td>1</td>\n",
       "    </tr>\n",
       "    <tr>\n",
       "      <th>...</th>\n",
       "      <td>...</td>\n",
       "      <td>...</td>\n",
       "    </tr>\n",
       "    <tr>\n",
       "      <th>85</th>\n",
       "      <td>132</td>\n",
       "      <td>0</td>\n",
       "    </tr>\n",
       "    <tr>\n",
       "      <th>290</th>\n",
       "      <td>419</td>\n",
       "      <td>0</td>\n",
       "    </tr>\n",
       "    <tr>\n",
       "      <th>180</th>\n",
       "      <td>267</td>\n",
       "      <td>0</td>\n",
       "    </tr>\n",
       "    <tr>\n",
       "      <th>281</th>\n",
       "      <td>408</td>\n",
       "      <td>1</td>\n",
       "    </tr>\n",
       "    <tr>\n",
       "      <th>310</th>\n",
       "      <td>452</td>\n",
       "      <td>0</td>\n",
       "    </tr>\n",
       "  </tbody>\n",
       "</table>\n",
       "<p>146 rows × 2 columns</p>\n",
       "</div>"
      ],
      "text/plain": [
       "     BraTS21ID  MGMT_value\n",
       "215        313           1\n",
       "582       1008           1\n",
       "112        167           0\n",
       "28          45           0\n",
       "230        334           1\n",
       "..         ...         ...\n",
       "85         132           0\n",
       "290        419           0\n",
       "180        267           0\n",
       "281        408           1\n",
       "310        452           0\n",
       "\n",
       "[146 rows x 2 columns]"
      ]
     },
     "execution_count": 11,
     "metadata": {},
     "output_type": "execute_result"
    }
   ],
   "source": [
    "train, valid = sk_model_selection.train_test_split(train_csv, random_state=3220, stratify=train_csv[\"MGMT_value\"],)\n",
    "valid"
   ]
  },
  {
   "cell_type": "code",
   "execution_count": 12,
   "id": "80176c76",
   "metadata": {
    "execution": {
     "iopub.execute_input": "2022-04-21T01:11:42.956261Z",
     "iopub.status.busy": "2022-04-21T01:11:42.955286Z",
     "iopub.status.idle": "2022-04-21T01:11:42.959069Z",
     "shell.execute_reply": "2022-04-21T01:11:42.959572Z",
     "shell.execute_reply.started": "2022-04-21T01:10:09.284399Z"
    },
    "papermill": {
     "duration": 0.049083,
     "end_time": "2022-04-21T01:11:42.959740",
     "exception": false,
     "start_time": "2022-04-21T01:11:42.910657",
     "status": "completed"
    },
    "tags": []
   },
   "outputs": [],
   "source": [
    "class Dataset(torch.utils.data.Dataset):\n",
    "    def __init__(self, image_IDs, targets=None, mri_type=None, split=\"train\", augment=False):\n",
    "        self.image_IDs = image_IDs\n",
    "        self.targets = targets\n",
    "        self.mri_type = mri_type\n",
    "        self.split = split\n",
    "        self.augment = augment\n",
    "        \n",
    "    def __len__(self):\n",
    "        return len(self.image_IDs)\n",
    "    \n",
    "    def __getitem__(self, i: int):\n",
    "        image_num = self.image_IDs[i]\n",
    "        #targets is None when testing\n",
    "        if self.targets is not None:\n",
    "            data = load_dicom_3d(image_num, self.mri_type, augment=self.augment)\n",
    "        else:\n",
    "            data = load_dicom_3d(image_num, self.mri_type, data_split=self.split, augment=self.augment)\n",
    "        \n",
    "        if self.targets is not None:\n",
    "            return {\"X\": data, \"y\": torch.tensor(self.targets[i], dtype=torch.float64)}\n",
    "        else:\n",
    "            return {\"X\": torch.tensor(data, dtype=torch.float64), \"id\": image_num}"
   ]
  },
  {
   "cell_type": "code",
   "execution_count": 13,
   "id": "d06594fa",
   "metadata": {
    "execution": {
     "iopub.execute_input": "2022-04-21T01:11:43.036485Z",
     "iopub.status.busy": "2022-04-21T01:11:43.034960Z",
     "iopub.status.idle": "2022-04-21T01:11:43.038625Z",
     "shell.execute_reply": "2022-04-21T01:11:43.039585Z",
     "shell.execute_reply.started": "2022-04-21T01:10:09.294891Z"
    },
    "papermill": {
     "duration": 0.045724,
     "end_time": "2022-04-21T01:11:43.039750",
     "exception": false,
     "start_time": "2022-04-21T01:11:42.994026",
     "status": "completed"
    },
    "tags": []
   },
   "outputs": [],
   "source": [
    "class Model(nn.Module):\n",
    "    def __init__(self):\n",
    "        super(Model, self).__init__()\n",
    "        #create a network using efficientnet-b0, that has 2 output classes (MGMT 1/0) and 1 input channel as it is greyscale\n",
    "        self.network = EfficientNet3D.from_name(\"efficientnet-b3\", override_params={'num_classes': 2}, in_channels=1)\n",
    "        #classifier\n",
    "        self.network._fc = nn.Linear(in_features=self.network._fc.in_features, out_features=1, bias=True)\n",
    "        \n",
    "    def forward(self, x):\n",
    "        out = self.network(x)\n",
    "        return out"
   ]
  },
  {
   "cell_type": "code",
   "execution_count": 14,
   "id": "8a689ee8",
   "metadata": {
    "execution": {
     "iopub.execute_input": "2022-04-21T01:11:43.116645Z",
     "iopub.status.busy": "2022-04-21T01:11:43.115815Z",
     "iopub.status.idle": "2022-04-21T01:11:43.135915Z",
     "shell.execute_reply": "2022-04-21T01:11:43.136895Z",
     "shell.execute_reply.started": "2022-04-21T01:10:09.307048Z"
    },
    "papermill": {
     "duration": 0.062848,
     "end_time": "2022-04-21T01:11:43.137056",
     "exception": false,
     "start_time": "2022-04-21T01:11:43.074208",
     "status": "completed"
    },
    "tags": []
   },
   "outputs": [],
   "source": [
    "import time\n",
    "from sklearn.metrics import roc_auc_score\n",
    "class Trainer:\n",
    "    def __init__(self, model, device, optimizer, criterion):\n",
    "        self.model = model\n",
    "        self.device = device\n",
    "        self.optimizer = optimizer\n",
    "        self.criterion = criterion\n",
    "        self.output_model = None\n",
    "        self.best_auc = 0\n",
    "        \n",
    "    def fit(self, epochs, train_loader, valid_loader, path):\n",
    "        all_training_losses = []\n",
    "        all_valid_losses = []\n",
    "        all_auc = []\n",
    "        for epoch_n in range(1, epochs + 1):\n",
    "            print(f\"Epoch {epoch_n}\")\n",
    "            train_loss = self.train_one_epoch(train_loader)\n",
    "            valid_loss, auc = self.validate_one_epoch(valid_loader)\n",
    "            all_training_losses.append(train_loss)\n",
    "            all_valid_losses.append(valid_loss)\n",
    "            all_auc.append(auc)\n",
    "            print(\"Training loss: \", train_loss)\n",
    "            print(\"Validation loss: \", valid_loss)\n",
    "            if auc > self.best_auc:\n",
    "                self.save_model(path, valid_loss, auc)\n",
    "                self.best_auc = auc\n",
    "        return all_training_losses, all_valid_losses, all_auc\n",
    "                    \n",
    "    def train_one_epoch(self, train_dataloader):\n",
    "        sum_losses = 0\n",
    "        self.model.train()\n",
    "        time_start = time.time()\n",
    "        for step, batch in enumerate(train_dataloader, 1):\n",
    "            print(\"Step: \", step, end='\\r')\n",
    "            ids = batch[\"X\"].to(self.device)\n",
    "            targets = batch[\"y\"].to(self.device)\n",
    "            self.optimizer.zero_grad()\n",
    "            outputs = self.model(ids).squeeze(1)\n",
    "            \n",
    "            loss = self.criterion(outputs, targets)\n",
    "            loss.backward()\n",
    "\n",
    "            sum_losses += loss.detach().item()\n",
    "\n",
    "            self.optimizer.step()\n",
    "        print(time.time() - time_start)\n",
    "        average_loss = sum_losses/len(train_dataloader)\n",
    "        return average_loss\n",
    "\n",
    "    \n",
    "    def validate_one_epoch(self, valid_dataloader):\n",
    "        #set model up for evaluation, disables dropout layers etc.\n",
    "        self.model.eval()\n",
    "        sum_losses = 0\n",
    "        all_outputs = []\n",
    "        all_targets = []\n",
    "        time_start = time.time()\n",
    "        for step, batch in enumerate(valid_dataloader, 1):\n",
    "            #deactivate autograd\n",
    "            with torch.no_grad():\n",
    "                X = batch[\"X\"].to(self.device)\n",
    "                targets = batch[\"y\"].to(self.device)\n",
    "                \n",
    "                outputs = self.model(X).squeeze(1)\n",
    "                loss = self.criterion(outputs, targets)\n",
    "                \n",
    "                sum_losses += loss.detach().item()\n",
    "                all_targets.extend(batch[\"y\"].tolist())\n",
    "                all_outputs.extend(torch.sigmoid(outputs).tolist())\n",
    "                \n",
    "        for x in all_targets:\n",
    "            if x > 0.5:\n",
    "                x = 1\n",
    "            else:\n",
    "                x = 0\n",
    "\n",
    "        auc = roc_auc_score(all_targets, all_outputs)\n",
    "        print(\"Time: \", time.time() - time_start, \"AUC: \", auc)\n",
    "        average_loss = sum_losses/len(valid_dataloader) \n",
    "        return average_loss, auc\n",
    "\n",
    "    def save_model(self, path, loss, auc):\n",
    "        self.output_model = f\"{path}_{loss:.2f}_{auc:.2f}.pt\"\n",
    "        print(f\"Saving {self.output_model}\")\n",
    "        torch.save(self.model.state_dict(), self.output_model)"
   ]
  },
  {
   "cell_type": "code",
   "execution_count": 15,
   "id": "aba73c38",
   "metadata": {
    "execution": {
     "iopub.execute_input": "2022-04-21T01:11:43.220329Z",
     "iopub.status.busy": "2022-04-21T01:11:43.219576Z",
     "iopub.status.idle": "2022-04-21T01:11:43.276105Z",
     "shell.execute_reply": "2022-04-21T01:11:43.275639Z",
     "shell.execute_reply.started": "2022-04-21T01:10:09.329182Z"
    },
    "papermill": {
     "duration": 0.103924,
     "end_time": "2022-04-21T01:11:43.276239",
     "exception": false,
     "start_time": "2022-04-21T01:11:43.172315",
     "status": "completed"
    },
    "tags": []
   },
   "outputs": [],
   "source": [
    "#from torchsummary import summary\n",
    "device = torch.device(\"cuda\" if torch.cuda.is_available() else \"cpu\")\n",
    "def train_model(train, valid, mri_type):\n",
    "    train_dataset = Dataset(\n",
    "        train[\"BraTS21ID\"].values,\n",
    "        train[\"MGMT_value\"].values,\n",
    "        mri_type=mri_type,\n",
    "        split=\"train\",\n",
    "        augment=True\n",
    "    )\n",
    "\n",
    "    train_loader = torch.utils.data.DataLoader(\n",
    "            train_dataset,\n",
    "            batch_size=4,\n",
    "            shuffle=True,\n",
    "            num_workers=2,pin_memory = True\n",
    "    )\n",
    "    \n",
    "    valid_dataset = Dataset(\n",
    "        valid[\"BraTS21ID\"].values,\n",
    "        valid[\"MGMT_value\"].values,\n",
    "        mri_type=mri_type,\n",
    "        split=\"train\"\n",
    "    )\n",
    "\n",
    "    valid_loader = torch.utils.data.DataLoader(\n",
    "            valid_dataset,\n",
    "            batch_size=4,\n",
    "            shuffle=True,\n",
    "            num_workers=2,pin_memory = True\n",
    "    )\n",
    "    \n",
    "    model = Model()\n",
    "    model.to(device)\n",
    "    #summary(model, input_size=(1, 256, 256, 64))\n",
    "    optimiser = torch.optim.AdamW(model.parameters(), lr=0.001)\n",
    "    criterion = torch_functional.binary_cross_entropy_with_logits\n",
    "\n",
    "    trainer = Trainer(model, device, optimiser, criterion)\n",
    "    epochs = 10\n",
    "    history = trainer.fit(epochs, train_loader, valid_loader, mri_type)\n",
    "    train_losses = history[0]\n",
    "    valid_losses = history[1]\n",
    "    aucs = history[2]\n",
    "    \n",
    "    epochs = list(range(1, epochs + 1))\n",
    "    \n",
    "    fig, axs = plt.subplots(1, 3)\n",
    "    fig.suptitle(f\"AUC and loss values over 10 epochs ({mri_type})\")\n",
    "    fig.tight_layout()\n",
    "    \n",
    "    axs[0].plot(epochs, aucs)\n",
    "    axs[0].set_title(\"AUC\")\n",
    "    axs[1].plot(epochs, train_losses)\n",
    "    axs[1].set_title(\"Training loss\")\n",
    "    axs[2].plot(epochs, valid_losses)\n",
    "    axs[2].set_title(\"Validation loss\")\n",
    "    \n",
    "    return trainer.output_model"
   ]
  },
  {
   "cell_type": "code",
   "execution_count": 16,
   "id": "ec258867",
   "metadata": {
    "execution": {
     "iopub.execute_input": "2022-04-21T01:11:43.323491Z",
     "iopub.status.busy": "2022-04-21T01:11:43.322963Z",
     "iopub.status.idle": "2022-04-21T01:48:11.440369Z",
     "shell.execute_reply": "2022-04-21T01:48:11.439816Z"
    },
    "papermill": {
     "duration": 2188.143689,
     "end_time": "2022-04-21T01:48:11.440526",
     "exception": false,
     "start_time": "2022-04-21T01:11:43.296837",
     "status": "completed"
    },
    "tags": []
   },
   "outputs": [
    {
     "name": "stdout",
     "output_type": "stream",
     "text": [
      "Epoch 1\n",
      "214.9275393486023\n",
      "Time:  65.19712138175964 AUC:  0.5027291549030679\n",
      "Training loss:  0.7595470994089423\n",
      "Validation loss:  0.7248199161165427\n",
      "Saving FLAIR_0.72_0.50.pt\n",
      "Epoch 2\n",
      "168.46913623809814\n",
      "Time:  49.77296423912048 AUC:  0.43929983060417843\n",
      "Training loss:  0.702630855914893\n",
      "Validation loss:  0.7047628971464928\n",
      "Epoch 3\n",
      "159.91192436218262\n",
      "Time:  50.265393018722534 AUC:  0.4869188782232261\n",
      "Training loss:  0.7277200183115674\n",
      "Validation loss:  0.70755136341108\n",
      "Epoch 4\n",
      "160.3086392879486\n",
      "Time:  50.08733820915222 AUC:  0.4569922830792396\n",
      "Training loss:  0.7155557685321159\n",
      "Validation loss:  0.692571566067126\n",
      "Epoch 5\n",
      "162.1379930973053\n",
      "Time:  49.50639605522156 AUC:  0.5083756822887258\n",
      "Training loss:  0.6968562776163465\n",
      "Validation loss:  0.6951991138606759\n",
      "Saving FLAIR_0.70_0.51.pt\n",
      "Epoch 6\n",
      "163.87943243980408\n",
      "Time:  50.30001616477966 AUC:  0.48051948051948046\n",
      "Training loss:  0.7064552988545786\n",
      "Validation loss:  31.721962401897724\n",
      "Epoch 7\n",
      "163.13785195350647\n",
      "Time:  48.99725937843323 AUC:  0.49162431771127424\n",
      "Training loss:  0.6968488896569933\n",
      "Validation loss:  2.9626085901749533\n",
      "Epoch 8\n",
      "161.48253917694092\n",
      "Time:  50.75842809677124 AUC:  0.538678712591756\n",
      "Training loss:  0.6913181537983256\n",
      "Validation loss:  0.8482873886254492\n",
      "Saving FLAIR_0.85_0.54.pt\n",
      "Epoch 9\n",
      "159.17213463783264\n",
      "Time:  49.78283762931824 AUC:  0.49783549783549785\n",
      "Training loss:  0.7047751710385909\n",
      "Validation loss:  0.7004615204113608\n",
      "Epoch 10\n",
      "158.0941264629364\n",
      "Time:  47.56649875640869 AUC:  0.5162808206286468\n",
      "Training loss:  0.7031053351066162\n",
      "Validation loss:  0.7057517654680459\n"
     ]
    },
    {
     "data": {
      "image/png": "[encoded data removed]",
      "text/plain": [
       "<Figure size 432x288 with 3 Axes>"
      ]
     },
     "metadata": {
      "needs_background": "light"
     },
     "output_type": "display_data"
    }
   ],
   "source": [
    "train_type = \"FLAIR\"\n",
    "trained_model_path = train_model(train, valid, train_type)"
   ]
  },
  {
   "cell_type": "code",
   "execution_count": 17,
   "id": "ac8c811f",
   "metadata": {
    "execution": {
     "iopub.execute_input": "2022-04-21T01:48:12.282454Z",
     "iopub.status.busy": "2022-04-21T01:48:12.280725Z",
     "iopub.status.idle": "2022-04-21T01:48:12.283084Z",
     "shell.execute_reply": "2022-04-21T01:48:12.283508Z"
    },
    "papermill": {
     "duration": 0.491751,
     "end_time": "2022-04-21T01:48:12.283656",
     "exception": false,
     "start_time": "2022-04-21T01:48:11.791905",
     "status": "completed"
    },
    "tags": []
   },
   "outputs": [],
   "source": [
    "def make_prediction(path, valid, mri_type, split):\n",
    "    valid.loc[:,\"MRI_Type\"] = mri_type\n",
    "    dataset = Dataset(\n",
    "        valid.index.values,\n",
    "        mri_type=mri_type,\n",
    "        split=split\n",
    "    )\n",
    "    \n",
    "    dataloader = torch.utils.data.DataLoader(\n",
    "            dataset,\n",
    "            batch_size=4,\n",
    "            shuffle=False,\n",
    "            num_workers=2\n",
    "    )\n",
    "    \n",
    "    model = Model()\n",
    "    model.to(device)\n",
    "    model.load_state_dict(torch.load(path))\n",
    "    model.eval()\n",
    "    \n",
    "    MGMT_prediction = []\n",
    "    patient_ids = []\n",
    "    \n",
    "    for step, batch in enumerate(dataloader, 1):\n",
    "        with torch.no_grad():\n",
    "            prediction_sigmoid = torch.sigmoid(model(batch[\"X\"].to(device))).cpu().numpy().squeeze()\n",
    "            if prediction_sigmoid.size != 1:\n",
    "                MGMT_prediction.extend(prediction_sigmoid.tolist())\n",
    "            else:\n",
    "                #if batch size happens to be 1\n",
    "                MGMT_prediction.append(prediction_sigmoid)\n",
    "            patient_ids.extend(batch[\"id\"].numpy().tolist())\n",
    "    \n",
    "    prediction = pd.DataFrame({\"BraTS21ID\": patient_ids, \"MGMT_value\": MGMT_prediction}) \n",
    "    prediction = prediction.set_index(\"BraTS21ID\")\n",
    "    return prediction"
   ]
  },
  {
   "cell_type": "code",
   "execution_count": 18,
   "id": "06137c4b",
   "metadata": {
    "execution": {
     "iopub.execute_input": "2022-04-21T01:48:12.922202Z",
     "iopub.status.busy": "2022-04-21T01:48:12.921436Z",
     "iopub.status.idle": "2022-04-21T01:48:51.687374Z",
     "shell.execute_reply": "2022-04-21T01:48:51.686928Z"
    },
    "papermill": {
     "duration": 39.094399,
     "end_time": "2022-04-21T01:48:51.687506",
     "exception": false,
     "start_time": "2022-04-21T01:48:12.593107",
     "status": "completed"
    },
    "tags": []
   },
   "outputs": [
    {
     "name": "stderr",
     "output_type": "stream",
     "text": [
      "/opt/conda/lib/python3.7/site-packages/pandas/core/indexing.py:1667: SettingWithCopyWarning: \n",
      "A value is trying to be set on a copy of a slice from a DataFrame.\n",
      "Try using .loc[row_indexer,col_indexer] = value instead\n",
      "\n",
      "See the caveats in the documentation: https://pandas.pydata.org/pandas-docs/stable/user_guide/indexing.html#returning-a-view-versus-a-copy\n",
      "  self.obj[key] = value\n"
     ]
    },
    {
     "name": "stdout",
     "output_type": "stream",
     "text": [
      "Validation AUC: 0.538678712591756\n"
     ]
    },
    {
     "name": "stderr",
     "output_type": "stream",
     "text": [
      "/opt/conda/lib/python3.7/site-packages/pandas/core/indexing.py:1773: SettingWithCopyWarning: \n",
      "A value is trying to be set on a copy of a slice from a DataFrame.\n",
      "Try using .loc[row_indexer,col_indexer] = value instead\n",
      "\n",
      "See the caveats in the documentation: https://pandas.pydata.org/pandas-docs/stable/user_guide/indexing.html#returning-a-view-versus-a-copy\n",
      "  self._setitem_single_column(ilocs[0], value, pi)\n"
     ]
    }
   ],
   "source": [
    "valid.set_index(\"BraTS21ID\", inplace=True)\n",
    "valid.loc[:, \"MGMT_prediction\"] = 0.0\n",
    "prediction = make_prediction(trained_model_path, valid, mri_type=train_type, split=\"train\")\n",
    "\n",
    "valid.loc[:,\"MGMT_prediction\"] += prediction.loc[:,\"MGMT_value\"]\n",
    "\n",
    "auc = roc_auc_score(valid.loc[:, \"MGMT_value\"], valid.loc[:, \"MGMT_prediction\"])\n",
    "print(f\"Validation AUC: {auc}\")"
   ]
  },
  {
   "cell_type": "code",
   "execution_count": 19,
   "id": "751fcca4",
   "metadata": {
    "execution": {
     "iopub.execute_input": "2022-04-21T01:48:52.418282Z",
     "iopub.status.busy": "2022-04-21T01:48:52.417445Z",
     "iopub.status.idle": "2022-04-21T01:48:52.815012Z",
     "shell.execute_reply": "2022-04-21T01:48:52.816018Z"
    },
    "papermill": {
     "duration": 0.829938,
     "end_time": "2022-04-21T01:48:52.816218",
     "exception": false,
     "start_time": "2022-04-21T01:48:51.986280",
     "status": "completed"
    },
    "tags": []
   },
   "outputs": [
    {
     "data": {
      "text/plain": [
       "<seaborn.axisgrid.FacetGrid at 0x7f2cb4318650>"
      ]
     },
     "execution_count": 19,
     "metadata": {},
     "output_type": "execute_result"
    },
    {
     "data": {
      "image/png": "[encoded data removed]",
      "text/plain": [
       "<Figure size 360x360 with 1 Axes>"
      ]
     },
     "metadata": {
      "needs_background": "light"
     },
     "output_type": "display_data"
    }
   ],
   "source": [
    "sns.displot(valid.loc[:, \"MGMT_prediction\"])"
   ]
  },
  {
   "cell_type": "code",
   "execution_count": 20,
   "id": "214ac991",
   "metadata": {
    "execution": {
     "iopub.execute_input": "2022-04-21T01:48:53.664357Z",
     "iopub.status.busy": "2022-04-21T01:48:53.663707Z",
     "iopub.status.idle": "2022-04-21T01:49:39.629862Z",
     "shell.execute_reply": "2022-04-21T01:49:39.629320Z"
    },
    "papermill": {
     "duration": 46.314112,
     "end_time": "2022-04-21T01:49:39.630008",
     "exception": false,
     "start_time": "2022-04-21T01:48:53.315896",
     "status": "completed"
    },
    "tags": []
   },
   "outputs": [],
   "source": [
    "submission = pd.read_csv(f\"/kaggle/input/rsna-miccai-brain-tumor-radiogenomic-classification/sample_submission.csv\", index_col=\"BraTS21ID\")\n",
    "\n",
    "submission[\"MGMT_value\"] = 0.0\n",
    "prediction = make_prediction(trained_model_path, submission, train_type, split=\"test\")\n",
    "submission[\"MGMT_value\"] += prediction[\"MGMT_value\"]\n",
    "\n",
    "submission[\"MGMT_value\"].to_csv(\"submission.csv\")"
   ]
  },
  {
   "cell_type": "code",
   "execution_count": 21,
   "id": "a0798a26",
   "metadata": {
    "execution": {
     "iopub.execute_input": "2022-04-21T01:49:40.500329Z",
     "iopub.status.busy": "2022-04-21T01:49:40.490192Z",
     "iopub.status.idle": "2022-04-21T01:49:40.767603Z",
     "shell.execute_reply": "2022-04-21T01:49:40.767145Z"
    },
    "papermill": {
     "duration": 0.645083,
     "end_time": "2022-04-21T01:49:40.767740",
     "exception": false,
     "start_time": "2022-04-21T01:49:40.122657",
     "status": "completed"
    },
    "tags": []
   },
   "outputs": [
    {
     "data": {
      "text/plain": [
       "<seaborn.axisgrid.FacetGrid at 0x7f2cb4c5a710>"
      ]
     },
     "execution_count": 21,
     "metadata": {},
     "output_type": "execute_result"
    },
    {
     "data": {
      "image/png": "[encoded data removed]",
      "text/plain": [
       "<Figure size 360x360 with 1 Axes>"
      ]
     },
     "metadata": {
      "needs_background": "light"
     },
     "output_type": "display_data"
    }
   ],
   "source": [
    "sns.displot(submission[\"MGMT_value\"])"
   ]
  },
  {
   "cell_type": "code",
   "execution_count": 22,
   "id": "ebd0f3f0",
   "metadata": {
    "execution": {
     "iopub.execute_input": "2022-04-21T01:49:41.389670Z",
     "iopub.status.busy": "2022-04-21T01:49:41.388693Z",
     "iopub.status.idle": "2022-04-21T01:49:41.390896Z",
     "shell.execute_reply": "2022-04-21T01:49:41.390409Z"
    },
    "papermill": {
     "duration": 0.324017,
     "end_time": "2022-04-21T01:49:41.391013",
     "exception": false,
     "start_time": "2022-04-21T01:49:41.066996",
     "status": "completed"
    },
    "tags": []
   },
   "outputs": [],
   "source": [
    "#model = Model()\n",
    "#model.to(device)\n",
    "#model.load_state_dict(torch.load(trained_model_path))"
   ]
  },
  {
   "cell_type": "code",
   "execution_count": 23,
   "id": "0744dbf4",
   "metadata": {
    "execution": {
     "iopub.execute_input": "2022-04-21T01:49:41.995615Z",
     "iopub.status.busy": "2022-04-21T01:49:41.994650Z",
     "iopub.status.idle": "2022-04-21T01:49:41.996667Z",
     "shell.execute_reply": "2022-04-21T01:49:41.997079Z"
    },
    "papermill": {
     "duration": 0.304689,
     "end_time": "2022-04-21T01:49:41.997241",
     "exception": false,
     "start_time": "2022-04-21T01:49:41.692552",
     "status": "completed"
    },
    "tags": []
   },
   "outputs": [],
   "source": [
    "#img_3d = load_dicom_3d(1002, train_type)\n",
    "#img_3d = torch.tensor(img_3d, dtype=torch.float64).unsqueeze(0).cuda()\n",
    "#\n",
    "#conv_weight = model.network._conv_stem.weight.cpu().detach().numpy()\n",
    "#print(conv_weight.shape)\n",
    "#plt.figure(figsize=(10, 10))\n",
    "#for i in range(32):\n",
    "#    plt.subplot(6, 6, i+1)\n",
    "#    plt.imshow(conv_weight[i, 0, :, :, 2], cmap=\"gray\")"
   ]
  },
  {
   "cell_type": "code",
   "execution_count": 24,
   "id": "761495f5",
   "metadata": {
    "execution": {
     "iopub.execute_input": "2022-04-21T01:49:42.614784Z",
     "iopub.status.busy": "2022-04-21T01:49:42.613182Z",
     "iopub.status.idle": "2022-04-21T01:49:42.615405Z",
     "shell.execute_reply": "2022-04-21T01:49:42.615882Z"
    },
    "papermill": {
     "duration": 0.305526,
     "end_time": "2022-04-21T01:49:42.616023",
     "exception": false,
     "start_time": "2022-04-21T01:49:42.310497",
     "status": "completed"
    },
    "tags": []
   },
   "outputs": [],
   "source": [
    "#print(img_3d.shape)\n",
    "#plt.imshow(img_3d[0, 0, :, :, 10].cpu().detach().numpy(), cmap=\"gray\")"
   ]
  },
  {
   "cell_type": "code",
   "execution_count": 25,
   "id": "2a51cd31",
   "metadata": {
    "execution": {
     "iopub.execute_input": "2022-04-21T01:49:43.223957Z",
     "iopub.status.busy": "2022-04-21T01:49:43.223110Z",
     "iopub.status.idle": "2022-04-21T01:49:43.225966Z",
     "shell.execute_reply": "2022-04-21T01:49:43.225414Z"
    },
    "papermill": {
     "duration": 0.312839,
     "end_time": "2022-04-21T01:49:43.226085",
     "exception": false,
     "start_time": "2022-04-21T01:49:42.913246",
     "status": "completed"
    },
    "tags": []
   },
   "outputs": [],
   "source": [
    "#net_modules = list(model.network.modules())\n",
    "#conv_layers = []\n",
    "#layer_weights = []\n",
    "#conv_count = 0\n",
    "#\n",
    "#for module in net_modules:\n",
    "#    if type(module) == Conv3dStaticSamePadding:\n",
    "#        conv_layers.append(module)\n",
    "#        layer_weights.append(module.weight)\n",
    "#        \n",
    "#output = []\n",
    "#names = []\n",
    "#image = img_3d\n",
    "#\n",
    "#for l in conv_layers:\n",
    "#    names.append(str(l).split(\"(\")[0])\n",
    "#    image = l(image)\n",
    "#    output.append(image)\n",
    "#\n",
    "#flattened_output = []\n",
    "#for o in output:\n",
    "#    o = o.squeeze(0)\n",
    "#    grey_scale = torch.sum(o ,0)\n",
    "#    grey_scale = grey_scale / o.shape[0]\n",
    "#    flattened_output.append(grey_scale.cpu().detach().numpy())\n",
    "#    \n",
    "#fig = plt.figure(figsize=(30, 50))\n",
    "#for i in range(len(flattened_output)):\n",
    "#    sub_plot = fig.add_subplot(9, 9, i+1)\n",
    "#    image = flattened_output[i]\n",
    "#    imgplot = plt.imshow(image[:, :, 0])\n",
    "#    sub_plot.axis(\"off\")\n",
    "#    sub_plot.set_title(names[i], fontsize=10)\n",
    "#    "
   ]
  }
 ],
 "metadata": {
  "kernelspec": {
   "display_name": "Python 3",
   "language": "python",
   "name": "python3"
  },
  "language_info": {
   "codemirror_mode": {
    "name": "ipython",
    "version": 3
   },
   "file_extension": ".py",
   "mimetype": "text/x-python",
   "name": "python",
   "nbconvert_exporter": "python",
   "pygments_lexer": "ipython3",
   "version": "3.7.10"
  },
  "papermill": {
   "default_parameters": {},
   "duration": 2295.627629,
   "end_time": "2022-04-21T01:49:46.246028",
   "environment_variables": {},
   "exception": null,
   "input_path": "__notebook__.ipynb",
   "output_path": "__notebook__.ipynb",
   "parameters": {},
   "start_time": "2022-04-21T01:11:30.618399",
   "version": "2.3.3"
  }
 },
 "nbformat": 4,
 "nbformat_minor": 5
}
