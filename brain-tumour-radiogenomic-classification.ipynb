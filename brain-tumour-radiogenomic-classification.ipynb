{
 "cells": [
  {
   "cell_type": "code",
   "execution_count": 1,
   "id": "84a92051",
   "metadata": {
    "_cell_guid": "b1076dfc-b9ad-4769-8c92-a6c4dae69d19",
    "_uuid": "8f2839f25d086af736a60e9eeb907d3b93b6e0e5",
    "execution": {
     "iopub.execute_input": "2022-04-06T14:56:09.882729Z",
     "iopub.status.busy": "2022-04-06T14:56:09.881083Z",
     "iopub.status.idle": "2022-04-06T14:56:10.931129Z",
     "shell.execute_reply": "2022-04-06T14:56:10.931730Z",
     "shell.execute_reply.started": "2022-04-06T14:55:13.530921Z"
    },
    "papermill": {
     "duration": 1.081203,
     "end_time": "2022-04-06T14:56:10.932018",
     "exception": false,
     "start_time": "2022-04-06T14:56:09.850815",
     "status": "completed"
    },
    "tags": []
   },
   "outputs": [],
   "source": [
    "import numpy as np\n",
    "import pandas as pd\n",
    "import os\n",
    "import pydicom\n",
    "from pydicom.pixel_data_handlers.util import apply_voi_lut\n",
    "import matplotlib.pyplot as plt\n",
    "import seaborn as sns\n",
    "import glob\n",
    "import re\n",
    "import sys\n",
    "#!pip install git+https://github.com/shijianjian/EfficientNet-PyTorch-3D\n",
    "#!pip install torch-summary\n",
    "import cv2"
   ]
  },
  {
   "cell_type": "code",
   "execution_count": 2,
   "id": "923ef792",
   "metadata": {
    "execution": {
     "iopub.execute_input": "2022-04-06T14:56:10.969106Z",
     "iopub.status.busy": "2022-04-06T14:56:10.968502Z",
     "iopub.status.idle": "2022-04-06T14:56:10.972679Z",
     "shell.execute_reply": "2022-04-06T14:56:10.973111Z",
     "shell.execute_reply.started": "2022-04-06T14:55:13.544870Z"
    },
    "papermill": {
     "duration": 0.0247,
     "end_time": "2022-04-06T14:56:10.973263",
     "exception": false,
     "start_time": "2022-04-06T14:56:10.948563",
     "status": "completed"
    },
    "tags": []
   },
   "outputs": [],
   "source": [
    "files = glob.glob('/kaggle/working/*')\n",
    "for f in files:\n",
    "    os.remove(f)"
   ]
  },
  {
   "cell_type": "code",
   "execution_count": 3,
   "id": "ac685a33",
   "metadata": {
    "execution": {
     "iopub.execute_input": "2022-04-06T14:56:11.008902Z",
     "iopub.status.busy": "2022-04-06T14:56:11.007980Z",
     "iopub.status.idle": "2022-04-06T14:56:11.010927Z",
     "shell.execute_reply": "2022-04-06T14:56:11.010428Z",
     "shell.execute_reply.started": "2022-04-06T14:55:13.558803Z"
    },
    "papermill": {
     "duration": 0.022579,
     "end_time": "2022-04-06T14:56:11.011132",
     "exception": false,
     "start_time": "2022-04-06T14:56:10.988553",
     "status": "completed"
    },
    "tags": []
   },
   "outputs": [],
   "source": [
    "sys.path.append(\"../input/efficientnetpyttorch3d/EfficientNet-PyTorch-3D\")"
   ]
  },
  {
   "cell_type": "code",
   "execution_count": 4,
   "id": "145c2c8b",
   "metadata": {
    "execution": {
     "iopub.execute_input": "2022-04-06T14:56:11.046314Z",
     "iopub.status.busy": "2022-04-06T14:56:11.045660Z",
     "iopub.status.idle": "2022-04-06T14:56:11.075508Z",
     "shell.execute_reply": "2022-04-06T14:56:11.076091Z",
     "shell.execute_reply.started": "2022-04-06T14:55:13.567243Z"
    },
    "papermill": {
     "duration": 0.049941,
     "end_time": "2022-04-06T14:56:11.076233",
     "exception": false,
     "start_time": "2022-04-06T14:56:11.026292",
     "status": "completed"
    },
    "tags": []
   },
   "outputs": [],
   "source": [
    "#Organisers have said these are to be ignored\n",
    "exclude = [109, 123, 709]\n",
    "train_csv = pd.read_csv('/kaggle/input/rsna-miccai-brain-tumor-radiogenomic-classification/train_labels.csv')\n",
    "train_csv = train_csv[~train_csv.BraTS21ID.isin(exclude)]"
   ]
  },
  {
   "cell_type": "code",
   "execution_count": 5,
   "id": "fc4d6542",
   "metadata": {
    "execution": {
     "iopub.execute_input": "2022-04-06T14:56:11.118846Z",
     "iopub.status.busy": "2022-04-06T14:56:11.113837Z",
     "iopub.status.idle": "2022-04-06T14:56:11.429153Z",
     "shell.execute_reply": "2022-04-06T14:56:11.429618Z",
     "shell.execute_reply.started": "2022-04-06T14:55:13.580781Z"
    },
    "papermill": {
     "duration": 0.337718,
     "end_time": "2022-04-06T14:56:11.429779",
     "exception": false,
     "start_time": "2022-04-06T14:56:11.092061",
     "status": "completed"
    },
    "tags": []
   },
   "outputs": [
    {
     "data": {
      "text/plain": [
       "<AxesSubplot:xlabel='MGMT_value', ylabel='count'>"
      ]
     },
     "execution_count": 5,
     "metadata": {},
     "output_type": "execute_result"
    },
    {
     "data": {
      "image/png": "[encoded data removed]",
      "text/plain": [
       "<Figure size 504x504 with 1 Axes>"
      ]
     },
     "metadata": {
      "needs_background": "light"
     },
     "output_type": "display_data"
    }
   ],
   "source": [
    "plt.figure(figsize=(7, 7))\n",
    "sns.countplot(data=train_csv, x=\"MGMT_value\")"
   ]
  },
  {
   "cell_type": "code",
   "execution_count": 6,
   "id": "79b9b066",
   "metadata": {
    "execution": {
     "iopub.execute_input": "2022-04-06T14:56:11.477316Z",
     "iopub.status.busy": "2022-04-06T14:56:11.475441Z",
     "iopub.status.idle": "2022-04-06T14:56:11.477958Z",
     "shell.execute_reply": "2022-04-06T14:56:11.478521Z",
     "shell.execute_reply.started": "2022-04-06T14:55:13.759359Z"
    },
    "papermill": {
     "duration": 0.032486,
     "end_time": "2022-04-06T14:56:11.478666",
     "exception": false,
     "start_time": "2022-04-06T14:56:11.446180",
     "status": "completed"
    },
    "tags": []
   },
   "outputs": [],
   "source": [
    "NUM_IMAGES = 64\n",
    "mri_types = ['FLAIR','T1w','T1wCE','T2w']\n",
    "SIZE = 256\n",
    "\n",
    "#https://www.kaggle.com/raddar/convert-dicom-to-np-array-the-correct-way\n",
    "\n",
    "def load_dicom(path, voi_lut = True, fix_monochrome = True):\n",
    "    dicom = pydicom.read_file(path)\n",
    "    # VOI LUT (if available by DICOM device) is used to transform raw DICOM data to \"human-friendly\" view\n",
    "    if voi_lut:\n",
    "        data = apply_voi_lut(dicom.pixel_array, dicom)\n",
    "    else:\n",
    "        data = dicom.pixel_array\n",
    "    # MONOCHROME1 means that the brightness decreases as the value increases\n",
    "    # This would lead to inverted images, so we reverse this\n",
    "    if fix_monochrome and dicom.PhotometricInterpretation == \"MONOCHROME1\":\n",
    "        data = np.amax(data) - data\n",
    "    \n",
    "    data = cv2.resize(data, (SIZE, SIZE))\n",
    "    data = data.astype(np.float64)\n",
    "        \n",
    "    return data\n",
    "\n",
    "#loads 64 (SIZE) images from a DICOM file from a single MRI type\n",
    "def load_dicom_3d(brats21id, mri_type, num_imgs=NUM_IMAGES, img_size=SIZE, data_split=\"train\"):\n",
    "    patient_path = os.path.join(f\"/kaggle/input/rsna-miccai-brain-tumor-radiogenomic-classification/{data_split}/\", str(brats21id).zfill(5))\n",
    "    x = glob.glob(os.path.join(patient_path, mri_type, \"*\"))\n",
    "    paths = sorted(x, key=lambda x: int(x[:-4].split(\"-\")[-1]))\n",
    "    \n",
    "    middle = len(paths) // 2\n",
    "    num_imgs2 = num_imgs // 2\n",
    "    bottom = max(0, middle - num_imgs2)\n",
    "    top = min(len(paths), middle + num_imgs2)\n",
    "    image_3d = np.stack([load_dicom(f) for f in paths[bottom:top]]).transpose()\n",
    "    \n",
    "    if image_3d.shape[-1] < num_imgs:\n",
    "        zero_padding = np.zeros((img_size, img_size, abs(num_imgs - image_3d.shape[-1])))\n",
    "        image_3d = np.concatenate((image_3d, zero_padding), axis=-1)\n",
    "    \n",
    "    #normalise data\n",
    "    if np.min(image_3d) < np.max(image_3d):\n",
    "        image_3d = image_3d - np.min(image_3d)\n",
    "        image_3d = image_3d / np.max(image_3d)\n",
    "    return np.expand_dims(image_3d, 0)"
   ]
  },
  {
   "cell_type": "code",
   "execution_count": 7,
   "id": "ec414285",
   "metadata": {
    "execution": {
     "iopub.execute_input": "2022-04-06T14:56:11.516232Z",
     "iopub.status.busy": "2022-04-06T14:56:11.515666Z",
     "iopub.status.idle": "2022-04-06T14:56:11.894249Z",
     "shell.execute_reply": "2022-04-06T14:56:11.895109Z",
     "shell.execute_reply.started": "2022-04-06T14:55:13.775040Z"
    },
    "papermill": {
     "duration": 0.40052,
     "end_time": "2022-04-06T14:56:11.895369",
     "exception": false,
     "start_time": "2022-04-06T14:56:11.494849",
     "status": "completed"
    },
    "tags": []
   },
   "outputs": [
    {
     "name": "stdout",
     "output_type": "stream",
     "text": [
      "(1, 256, 256, 64)\n",
      "0.0 1.0 0.06492401325182892 0.0\n"
     ]
    }
   ],
   "source": [
    "a = load_dicom_3d(106, \"FLAIR\")\n",
    "print(a.shape)\n",
    "print(np.min(a), np.max(a), np.mean(a), np.median(a))"
   ]
  },
  {
   "cell_type": "code",
   "execution_count": 8,
   "id": "c2bcc79b",
   "metadata": {
    "execution": {
     "iopub.execute_input": "2022-04-06T14:56:11.972807Z",
     "iopub.status.busy": "2022-04-06T14:56:11.968347Z",
     "iopub.status.idle": "2022-04-06T14:56:11.982742Z",
     "shell.execute_reply": "2022-04-06T14:56:11.984109Z",
     "shell.execute_reply.started": "2022-04-06T14:55:13.951914Z"
    },
    "papermill": {
     "duration": 0.06173,
     "end_time": "2022-04-06T14:56:11.984366",
     "exception": false,
     "start_time": "2022-04-06T14:56:11.922636",
     "status": "completed"
    },
    "tags": []
   },
   "outputs": [],
   "source": [
    "# Displays the middle sample of each MRI type for an ID\n",
    "def visualise_sample(brats21id, mgmt_value, types=(\"FLAIR\", \"T1w\", \"T1wCE\", \"T2w\")):\n",
    "    plt.figure(figsize=(16, 5)) \n",
    "    patient_path = os.path.join(\"/kaggle/input/rsna-miccai-brain-tumor-radiogenomic-classification/train/\", str(brats21id).zfill(5))\n",
    "    for i, type in enumerate(types, 1):\n",
    "        x = glob.glob(os.path.join(patient_path, type, \"*\"))\n",
    "        type_paths = sorted(glob.glob(os.path.join(patient_path, type, \"*\")), key=lambda x: int(x[:-4].split(\"-\")[-1]))\n",
    "        data = load_dicom(type_paths[(len(type_paths) // 2)])\n",
    "        plt.subplot(1, 4, i)\n",
    "        plt.imshow(data, cmap=\"gray\")\n",
    "        plt.title(f\"{type}\", fontsize=16)\n",
    "\n",
    "    plt.suptitle(f\"BraTS21ID: {brats21id}  MGMT_value: {mgmt_value}\", fontsize=16)\n",
    "    plt.show()"
   ]
  },
  {
   "cell_type": "code",
   "execution_count": 9,
   "id": "197d0739",
   "metadata": {
    "execution": {
     "iopub.execute_input": "2022-04-06T14:56:12.042997Z",
     "iopub.status.busy": "2022-04-06T14:56:12.041693Z",
     "iopub.status.idle": "2022-04-06T14:56:12.904787Z",
     "shell.execute_reply": "2022-04-06T14:56:12.905230Z",
     "shell.execute_reply.started": "2022-04-06T14:55:13.961528Z"
    },
    "papermill": {
     "duration": 0.900002,
     "end_time": "2022-04-06T14:56:12.905411",
     "exception": false,
     "start_time": "2022-04-06T14:56:12.005409",
     "status": "completed"
    },
    "tags": []
   },
   "outputs": [
    {
     "data": {
      "image/png": "[encoded data removed]",
      "text/plain": [
       "<Figure size 1152x360 with 4 Axes>"
      ]
     },
     "metadata": {
      "needs_background": "light"
     },
     "output_type": "display_data"
    }
   ],
   "source": [
    "random_sample = train_csv.sample(n=1).values\n",
    "random_sample_ID = random_sample[0][0]\n",
    "random_sample_MGMT = random_sample[0][1]\n",
    "visualise_sample(random_sample_ID, random_sample_MGMT)"
   ]
  },
  {
   "cell_type": "code",
   "execution_count": 10,
   "id": "b3f5ca5b",
   "metadata": {
    "execution": {
     "iopub.execute_input": "2022-04-06T14:56:12.953414Z",
     "iopub.status.busy": "2022-04-06T14:56:12.949824Z",
     "iopub.status.idle": "2022-04-06T14:56:14.396700Z",
     "shell.execute_reply": "2022-04-06T14:56:14.396025Z",
     "shell.execute_reply.started": "2022-04-06T14:55:14.760764Z"
    },
    "papermill": {
     "duration": 1.472276,
     "end_time": "2022-04-06T14:56:14.396845",
     "exception": false,
     "start_time": "2022-04-06T14:56:12.924569",
     "status": "completed"
    },
    "tags": []
   },
   "outputs": [],
   "source": [
    "efficientnet_path = \"../input/efficientnetpyttorch3d/EfficientNet-PyTorch-3D\"\n",
    "\n",
    "from efficientnet_pytorch_3d import EfficientNet3D\n",
    "\n",
    "import torch\n",
    "from torch import nn\n",
    "torch.set_default_dtype(torch.float64)\n",
    "\n",
    "#dataset splitting\n",
    "from sklearn import model_selection as sk_model_selection\n",
    "\n",
    "#convolutional\n",
    "from torch.nn import functional as torch_functional"
   ]
  },
  {
   "cell_type": "code",
   "execution_count": 11,
   "id": "f7d0f342",
   "metadata": {
    "execution": {
     "iopub.execute_input": "2022-04-06T14:56:14.436612Z",
     "iopub.status.busy": "2022-04-06T14:56:14.435937Z",
     "iopub.status.idle": "2022-04-06T14:56:14.449216Z",
     "shell.execute_reply": "2022-04-06T14:56:14.449722Z",
     "shell.execute_reply.started": "2022-04-06T14:55:16.279981Z"
    },
    "papermill": {
     "duration": 0.0357,
     "end_time": "2022-04-06T14:56:14.449875",
     "exception": false,
     "start_time": "2022-04-06T14:56:14.414175",
     "status": "completed"
    },
    "tags": []
   },
   "outputs": [
    {
     "data": {
      "text/html": [
       "<div>\n",
       "<style scoped>\n",
       "    .dataframe tbody tr th:only-of-type {\n",
       "        vertical-align: middle;\n",
       "    }\n",
       "\n",
       "    .dataframe tbody tr th {\n",
       "        vertical-align: top;\n",
       "    }\n",
       "\n",
       "    .dataframe thead th {\n",
       "        text-align: right;\n",
       "    }\n",
       "</style>\n",
       "<table border=\"1\" class=\"dataframe\">\n",
       "  <thead>\n",
       "    <tr style=\"text-align: right;\">\n",
       "      <th></th>\n",
       "      <th>BraTS21ID</th>\n",
       "      <th>MGMT_value</th>\n",
       "    </tr>\n",
       "  </thead>\n",
       "  <tbody>\n",
       "    <tr>\n",
       "      <th>215</th>\n",
       "      <td>313</td>\n",
       "      <td>1</td>\n",
       "    </tr>\n",
       "    <tr>\n",
       "      <th>582</th>\n",
       "      <td>1008</td>\n",
       "      <td>1</td>\n",
       "    </tr>\n",
       "    <tr>\n",
       "      <th>112</th>\n",
       "      <td>167</td>\n",
       "      <td>0</td>\n",
       "    </tr>\n",
       "    <tr>\n",
       "      <th>28</th>\n",
       "      <td>45</td>\n",
       "      <td>0</td>\n",
       "    </tr>\n",
       "    <tr>\n",
       "      <th>230</th>\n",
       "      <td>334</td>\n",
       "      <td>1</td>\n",
       "    </tr>\n",
       "    <tr>\n",
       "      <th>...</th>\n",
       "      <td>...</td>\n",
       "      <td>...</td>\n",
       "    </tr>\n",
       "    <tr>\n",
       "      <th>85</th>\n",
       "      <td>132</td>\n",
       "      <td>0</td>\n",
       "    </tr>\n",
       "    <tr>\n",
       "      <th>290</th>\n",
       "      <td>419</td>\n",
       "      <td>0</td>\n",
       "    </tr>\n",
       "    <tr>\n",
       "      <th>180</th>\n",
       "      <td>267</td>\n",
       "      <td>0</td>\n",
       "    </tr>\n",
       "    <tr>\n",
       "      <th>281</th>\n",
       "      <td>408</td>\n",
       "      <td>1</td>\n",
       "    </tr>\n",
       "    <tr>\n",
       "      <th>310</th>\n",
       "      <td>452</td>\n",
       "      <td>0</td>\n",
       "    </tr>\n",
       "  </tbody>\n",
       "</table>\n",
       "<p>146 rows × 2 columns</p>\n",
       "</div>"
      ],
      "text/plain": [
       "     BraTS21ID  MGMT_value\n",
       "215        313           1\n",
       "582       1008           1\n",
       "112        167           0\n",
       "28          45           0\n",
       "230        334           1\n",
       "..         ...         ...\n",
       "85         132           0\n",
       "290        419           0\n",
       "180        267           0\n",
       "281        408           1\n",
       "310        452           0\n",
       "\n",
       "[146 rows x 2 columns]"
      ]
     },
     "execution_count": 11,
     "metadata": {},
     "output_type": "execute_result"
    }
   ],
   "source": [
    "train, valid = sk_model_selection.train_test_split(train_csv, random_state=3220, stratify=train_csv[\"MGMT_value\"],)\n",
    "valid"
   ]
  },
  {
   "cell_type": "code",
   "execution_count": 12,
   "id": "a32286cb",
   "metadata": {
    "execution": {
     "iopub.execute_input": "2022-04-06T14:56:14.493775Z",
     "iopub.status.busy": "2022-04-06T14:56:14.492979Z",
     "iopub.status.idle": "2022-04-06T14:56:14.495562Z",
     "shell.execute_reply": "2022-04-06T14:56:14.495078Z",
     "shell.execute_reply.started": "2022-04-06T14:55:16.298285Z"
    },
    "papermill": {
     "duration": 0.027757,
     "end_time": "2022-04-06T14:56:14.495679",
     "exception": false,
     "start_time": "2022-04-06T14:56:14.467922",
     "status": "completed"
    },
    "tags": []
   },
   "outputs": [],
   "source": [
    "class Dataset(torch.utils.data.Dataset):\n",
    "    def __init__(self, image_IDs, targets=None, mri_type=None, split=\"train\"):\n",
    "        self.image_IDs = image_IDs\n",
    "        self.targets = targets\n",
    "        self.mri_type = mri_type\n",
    "        self.split = split\n",
    "        \n",
    "    def __len__(self):\n",
    "        return len(self.image_IDs)\n",
    "    \n",
    "    def __getitem__(self, i: int):\n",
    "        image_num = self.image_IDs[i]\n",
    "        #targets is None when testing\n",
    "        if self.targets is not None:\n",
    "            data = load_dicom_3d(image_num, self.mri_type)\n",
    "        else:\n",
    "            data = load_dicom_3d(image_num, self.mri_type, data_split=self.split)\n",
    "        \n",
    "        if self.targets is not None:\n",
    "            return {\"X\": data, \"y\": torch.tensor(self.targets[i], dtype=torch.float64)}\n",
    "        else:\n",
    "            return {\"X\": torch.tensor(data, dtype=torch.float64), \"id\": image_num}"
   ]
  },
  {
   "cell_type": "code",
   "execution_count": 13,
   "id": "869c8287",
   "metadata": {
    "execution": {
     "iopub.execute_input": "2022-04-06T14:56:14.538303Z",
     "iopub.status.busy": "2022-04-06T14:56:14.537392Z",
     "iopub.status.idle": "2022-04-06T14:56:14.539373Z",
     "shell.execute_reply": "2022-04-06T14:56:14.539798Z",
     "shell.execute_reply.started": "2022-04-06T14:55:16.307924Z"
    },
    "papermill": {
     "duration": 0.02677,
     "end_time": "2022-04-06T14:56:14.539936",
     "exception": false,
     "start_time": "2022-04-06T14:56:14.513166",
     "status": "completed"
    },
    "tags": []
   },
   "outputs": [],
   "source": [
    "class Model(nn.Module):\n",
    "    def __init__(self):\n",
    "        super(Model, self).__init__()\n",
    "        #create a network using efficientnet-b0, that has 2 output classes (MGMT 1/0) and 1 input channel as it is greyscale\n",
    "        self.network = EfficientNet3D.from_name(\"efficientnet-b0\", override_params={'num_classes': 2}, in_channels=1)\n",
    "        #classifier\n",
    "        self.network._fc = nn.Linear(in_features=self.network._fc.in_features, out_features=1, bias=True)\n",
    "        \n",
    "    def forward(self, x):\n",
    "        out = self.network(x)\n",
    "        return out"
   ]
  },
  {
   "cell_type": "code",
   "execution_count": 14,
   "id": "9ab18231",
   "metadata": {
    "execution": {
     "iopub.execute_input": "2022-04-06T14:56:14.594287Z",
     "iopub.status.busy": "2022-04-06T14:56:14.593097Z",
     "iopub.status.idle": "2022-04-06T14:56:14.594947Z",
     "shell.execute_reply": "2022-04-06T14:56:14.595374Z",
     "shell.execute_reply.started": "2022-04-06T14:55:16.320068Z"
    },
    "papermill": {
     "duration": 0.03791,
     "end_time": "2022-04-06T14:56:14.595521",
     "exception": false,
     "start_time": "2022-04-06T14:56:14.557611",
     "status": "completed"
    },
    "tags": []
   },
   "outputs": [],
   "source": [
    "import time\n",
    "from sklearn.metrics import roc_auc_score\n",
    "class Trainer:\n",
    "    def __init__(self, model, device, optimizer, criterion):\n",
    "        self.model = model\n",
    "        self.device = device\n",
    "        self.optimizer = optimizer\n",
    "        self.criterion = criterion\n",
    "        self.output_model = None\n",
    "        self.best_auc = 0\n",
    "        \n",
    "    def fit(self, epochs, train_loader, valid_loader, path):\n",
    "        all_training_losses = []\n",
    "        all_valid_losses = []\n",
    "        all_auc = []\n",
    "        for epoch_n in range(1, epochs + 1):\n",
    "            print(f\"Epoch {epoch_n}\")\n",
    "            train_loss = self.train_one_epoch(train_loader)\n",
    "            valid_loss, auc = self.validate_one_epoch(valid_loader)\n",
    "            all_training_losses.append(train_loss)\n",
    "            all_valid_losses.append(valid_loss)\n",
    "            all_auc.append(auc)\n",
    "            print(\"Training loss: \", train_loss)\n",
    "            print(\"Validation loss: \", valid_loss)\n",
    "            if auc > self.best_auc:\n",
    "                self.save_model(path, valid_loss, auc)\n",
    "                self.best_auc = auc\n",
    "        return all_training_losses, all_valid_losses, all_auc\n",
    "                    \n",
    "    def train_one_epoch(self, train_dataloader):\n",
    "        sum_losses = 0\n",
    "        self.model.train()\n",
    "        time_start = time.time()\n",
    "        for step, batch in enumerate(train_dataloader, 1):\n",
    "            print(\"Step: \", step, end='\\r')\n",
    "            ids = batch[\"X\"].to(self.device)\n",
    "            targets = batch[\"y\"].to(self.device)\n",
    "            self.optimizer.zero_grad()\n",
    "            outputs = self.model(ids).squeeze(1)\n",
    "            \n",
    "            loss = self.criterion(outputs, targets)\n",
    "            loss.backward()\n",
    "\n",
    "            sum_losses += loss.detach().item()\n",
    "\n",
    "            self.optimizer.step()\n",
    "        print(time.time() - time_start)\n",
    "        average_loss = sum_losses/len(train_dataloader)\n",
    "        return average_loss\n",
    "\n",
    "    \n",
    "    def validate_one_epoch(self, valid_dataloader):\n",
    "        #set model up for evaluation, disables dropout layers etc.\n",
    "        self.model.eval()\n",
    "        sum_losses = 0\n",
    "        all_outputs = []\n",
    "        all_targets = []\n",
    "        time_start = time.time()\n",
    "        for step, batch in enumerate(valid_dataloader, 1):\n",
    "            #deactivate autograd\n",
    "            with torch.no_grad():\n",
    "                X = batch[\"X\"].to(self.device)\n",
    "                targets = batch[\"y\"].to(self.device)\n",
    "                \n",
    "                outputs = self.model(X).squeeze(1)\n",
    "                loss = self.criterion(outputs, targets)\n",
    "                \n",
    "                sum_losses += loss.detach().item()\n",
    "                all_targets.extend(batch[\"y\"].tolist())\n",
    "                all_outputs.extend(torch.sigmoid(outputs).tolist())\n",
    "                \n",
    "        for x in all_targets:\n",
    "            if x > 0.5:\n",
    "                x = 1\n",
    "            else:\n",
    "                x = 0\n",
    "        auc = roc_auc_score(all_targets, all_outputs)\n",
    "        print(\"Time: \", time.time() - time_start, \"AUC: \", auc)\n",
    "        average_loss = sum_losses/len(valid_dataloader) \n",
    "        return average_loss, auc\n",
    "\n",
    "    def save_model(self, path, loss, auc):\n",
    "        self.output_model = f\"{path}_{loss:.2f}_{auc:.2f}.pt\"\n",
    "        print(f\"Saving {self.output_model}\")\n",
    "        torch.save(self.model.state_dict(), self.output_model)"
   ]
  },
  {
   "cell_type": "code",
   "execution_count": 15,
   "id": "839dac86",
   "metadata": {
    "execution": {
     "iopub.execute_input": "2022-04-06T14:56:14.682821Z",
     "iopub.status.busy": "2022-04-06T14:56:14.638399Z",
     "iopub.status.idle": "2022-04-06T14:56:14.685376Z",
     "shell.execute_reply": "2022-04-06T14:56:14.684914Z",
     "shell.execute_reply.started": "2022-04-06T14:55:16.339597Z"
    },
    "papermill": {
     "duration": 0.072058,
     "end_time": "2022-04-06T14:56:14.685508",
     "exception": false,
     "start_time": "2022-04-06T14:56:14.613450",
     "status": "completed"
    },
    "tags": []
   },
   "outputs": [],
   "source": [
    "#from torchsummary import summary\n",
    "device = torch.device(\"cuda\" if torch.cuda.is_available() else \"cpu\")\n",
    "def train_model(train, valid, mri_type):\n",
    "    train_dataset = Dataset(\n",
    "        train[\"BraTS21ID\"].values,\n",
    "        train[\"MGMT_value\"].values,\n",
    "        mri_type=mri_type,\n",
    "        split=\"train\"\n",
    "    )\n",
    "\n",
    "    train_loader = torch.utils.data.DataLoader(\n",
    "            train_dataset,\n",
    "            batch_size=4,\n",
    "            shuffle=True,\n",
    "            num_workers=2,pin_memory = True\n",
    "    )\n",
    "    \n",
    "    valid_dataset = Dataset(\n",
    "        valid[\"BraTS21ID\"].values,\n",
    "        valid[\"MGMT_value\"].values,\n",
    "        mri_type=mri_type,\n",
    "        split=\"train\"\n",
    "    )\n",
    "\n",
    "    valid_loader = torch.utils.data.DataLoader(\n",
    "            valid_dataset,\n",
    "            batch_size=4,\n",
    "            shuffle=True,\n",
    "            num_workers=2,pin_memory = True\n",
    "    )\n",
    "    \n",
    "    model = Model()\n",
    "    model.to(device)\n",
    "    #summary(model, input_size=(1, 256, 256, 64))\n",
    "    optimiser = torch.optim.AdamW(model.parameters(), lr=0.001)\n",
    "    criterion = torch_functional.binary_cross_entropy_with_logits\n",
    "\n",
    "    trainer = Trainer(model, device, optimiser, criterion)\n",
    "    history = trainer.fit(10, train_loader, valid_loader, mri_type)\n",
    "    train_losses = history[0]\n",
    "    valid_losses = history[1]\n",
    "    aucs = history[2]\n",
    "    \n",
    "    epochs = [1,2,3,4,5,6,7,8,9,10]\n",
    "    \n",
    "    fig, axs = plt.subplots(1, 3)\n",
    "    fig.suptitle(\"AUC and loss values over 10 epochs\")\n",
    "    fig.tight_layout()\n",
    "    \n",
    "    axs[0].plot(epochs, aucs)\n",
    "    axs[0].set_title(\"AUC\")\n",
    "    axs[1].plot(epochs, train_losses)\n",
    "    axs[1].set_title(\"Training loss\")\n",
    "    axs[2].plot(epochs, valid_losses)\n",
    "    axs[2].set_title(\"Validation loss\")\n",
    "    \n",
    "    return trainer.output_model"
   ]
  },
  {
   "cell_type": "code",
   "execution_count": 16,
   "id": "173a12d6",
   "metadata": {
    "execution": {
     "iopub.execute_input": "2022-04-06T14:56:14.727358Z",
     "iopub.status.busy": "2022-04-06T14:56:14.726808Z",
     "iopub.status.idle": "2022-04-06T15:33:17.014324Z",
     "shell.execute_reply": "2022-04-06T15:33:17.013767Z",
     "shell.execute_reply.started": "2022-04-06T14:55:16.398303Z"
    },
    "papermill": {
     "duration": 2222.311098,
     "end_time": "2022-04-06T15:33:17.014464",
     "exception": false,
     "start_time": "2022-04-06T14:56:14.703366",
     "status": "completed"
    },
    "tags": []
   },
   "outputs": [
    {
     "name": "stdout",
     "output_type": "stream",
     "text": [
      "Epoch 1\n",
      "197.23860335350037\n",
      "Time:  65.90024042129517 AUC:  0.5734989648033126\n",
      "Training loss:  0.7579387092898655\n",
      "Validation loss:  0.6916985618213967\n",
      "Saving FLAIR_0.69_0.57.pt\n",
      "Epoch 2\n",
      "171.4588086605072\n",
      "Time:  53.17579388618469 AUC:  0.5253152644456993\n",
      "Training loss:  0.7032771914705177\n",
      "Validation loss:  0.6917239669638309\n",
      "Epoch 3\n",
      "163.59692287445068\n",
      "Time:  56.73329544067383 AUC:  0.48635422548466023\n",
      "Training loss:  0.6954403770538454\n",
      "Validation loss:  0.7032996886636077\n",
      "Epoch 4\n",
      "162.76128005981445\n",
      "Time:  55.7266891002655 AUC:  0.4665913796348579\n",
      "Training loss:  0.7040664938183872\n",
      "Validation loss:  0.6944843254043155\n",
      "Epoch 5\n",
      "159.56235313415527\n",
      "Time:  54.80008816719055 AUC:  0.5787690570299266\n",
      "Training loss:  0.7045306675428384\n",
      "Validation loss:  0.7023398648510686\n",
      "Saving FLAIR_0.70_0.58.pt\n",
      "Epoch 6\n",
      "162.11856603622437\n",
      "Time:  54.95096397399902 AUC:  0.4449463579898362\n",
      "Training loss:  0.6906955983359201\n",
      "Validation loss:  2.6506977734800112\n",
      "Epoch 7\n",
      "159.36571311950684\n",
      "Time:  54.26658034324646 AUC:  0.4673442499529456\n",
      "Training loss:  0.6969719948403396\n",
      "Validation loss:  0.7475852123593673\n",
      "Epoch 8\n",
      "160.51931929588318\n",
      "Time:  54.474475383758545 AUC:  0.5535479013739883\n",
      "Training loss:  0.6970774076790903\n",
      "Validation loss:  0.8666780988381886\n",
      "Epoch 9\n",
      "163.39838981628418\n",
      "Time:  53.76832914352417 AUC:  0.5420666290231507\n",
      "Training loss:  0.7086974635910563\n",
      "Validation loss:  1.1874352632505016\n",
      "Epoch 10\n",
      "160.9508922100067\n",
      "Time:  53.72511339187622 AUC:  0.5486542443064183\n",
      "Training loss:  0.6971080721736932\n",
      "Validation loss:  0.8193882693502937\n"
     ]
    },
    {
     "data": {
      "image/png": "[encoded data removed]",
      "text/plain": [
       "<Figure size 432x288 with 3 Axes>"
      ]
     },
     "metadata": {
      "needs_background": "light"
     },
     "output_type": "display_data"
    }
   ],
   "source": [
    "train_type = \"FLAIR\"\n",
    "trained_model_path = train_model(train, valid, train_type)"
   ]
  },
  {
   "cell_type": "code",
   "execution_count": 17,
   "id": "2854cc92",
   "metadata": {
    "execution": {
     "iopub.execute_input": "2022-04-06T15:33:17.631943Z",
     "iopub.status.busy": "2022-04-06T15:33:17.630258Z",
     "iopub.status.idle": "2022-04-06T15:33:17.632530Z",
     "shell.execute_reply": "2022-04-06T15:33:17.632942Z",
     "shell.execute_reply.started": "2022-04-06T14:55:22.278334Z"
    },
    "papermill": {
     "duration": 0.319136,
     "end_time": "2022-04-06T15:33:17.633079",
     "exception": false,
     "start_time": "2022-04-06T15:33:17.313943",
     "status": "completed"
    },
    "tags": []
   },
   "outputs": [],
   "source": [
    "def make_prediction(path, valid, mri_type, split):\n",
    "    valid.loc[:,\"MRI_Type\"] = mri_type\n",
    "    dataset = Dataset(\n",
    "        valid.index.values,\n",
    "        mri_type=mri_type,\n",
    "        split=split\n",
    "    )\n",
    "    \n",
    "    dataloader = torch.utils.data.DataLoader(\n",
    "            dataset,\n",
    "            batch_size=4,\n",
    "            shuffle=False,\n",
    "            num_workers=2\n",
    "    )\n",
    "    \n",
    "    model = Model()\n",
    "    model.to(device)\n",
    "    model.load_state_dict(torch.load(path))\n",
    "    model.eval()\n",
    "    \n",
    "    MGMT_prediction = []\n",
    "    patient_ids = []\n",
    "    \n",
    "    for step, batch in enumerate(dataloader, 1):\n",
    "        with torch.no_grad():\n",
    "            prediction_sigmoid = torch.sigmoid(model(batch[\"X\"].to(device))).cpu().numpy().squeeze()\n",
    "            if prediction_sigmoid.size != 1:\n",
    "                MGMT_prediction.extend(prediction_sigmoid.tolist())\n",
    "            else:\n",
    "                #if batch size happens to be 1\n",
    "                MGMT_prediction.append(prediction_sigmoid)\n",
    "            patient_ids.extend(batch[\"id\"].numpy().tolist())\n",
    "    \n",
    "    prediction = pd.DataFrame({\"BraTS21ID\": patient_ids, \"MGMT_value\": MGMT_prediction}) \n",
    "    prediction = prediction.set_index(\"BraTS21ID\")\n",
    "    return prediction"
   ]
  },
  {
   "cell_type": "code",
   "execution_count": 18,
   "id": "6570e266",
   "metadata": {
    "execution": {
     "iopub.execute_input": "2022-04-06T15:33:18.253961Z",
     "iopub.status.busy": "2022-04-06T15:33:18.238516Z",
     "iopub.status.idle": "2022-04-06T15:34:15.172929Z",
     "shell.execute_reply": "2022-04-06T15:34:15.173503Z",
     "shell.execute_reply.started": "2022-04-06T14:55:22.280236Z"
    },
    "papermill": {
     "duration": 57.24174,
     "end_time": "2022-04-06T15:34:15.173660",
     "exception": false,
     "start_time": "2022-04-06T15:33:17.931920",
     "status": "completed"
    },
    "tags": []
   },
   "outputs": [
    {
     "name": "stderr",
     "output_type": "stream",
     "text": [
      "/opt/conda/lib/python3.7/site-packages/pandas/core/indexing.py:1667: SettingWithCopyWarning: \n",
      "A value is trying to be set on a copy of a slice from a DataFrame.\n",
      "Try using .loc[row_indexer,col_indexer] = value instead\n",
      "\n",
      "See the caveats in the documentation: https://pandas.pydata.org/pandas-docs/stable/user_guide/indexing.html#returning-a-view-versus-a-copy\n",
      "  self.obj[key] = value\n",
      "/opt/conda/lib/python3.7/site-packages/pandas/core/indexing.py:1773: SettingWithCopyWarning: \n",
      "A value is trying to be set on a copy of a slice from a DataFrame.\n",
      "Try using .loc[row_indexer,col_indexer] = value instead\n",
      "\n",
      "See the caveats in the documentation: https://pandas.pydata.org/pandas-docs/stable/user_guide/indexing.html#returning-a-view-versus-a-copy\n",
      "  self._setitem_single_column(ilocs[0], value, pi)\n"
     ]
    },
    {
     "name": "stdout",
     "output_type": "stream",
     "text": [
      "Validation AUC: 0.5787690570299266\n"
     ]
    },
    {
     "data": {
      "text/plain": [
       "<seaborn.axisgrid.FacetGrid at 0x7f21a5238090>"
      ]
     },
     "execution_count": 18,
     "metadata": {},
     "output_type": "execute_result"
    },
    {
     "data": {
      "image/png": "[encoded data removed]",
      "text/plain": [
       "<Figure size 360x360 with 1 Axes>"
      ]
     },
     "metadata": {
      "needs_background": "light"
     },
     "output_type": "display_data"
    }
   ],
   "source": [
    "valid.set_index(\"BraTS21ID\", inplace=True)\n",
    "valid.loc[:, \"MGMT_prediction\"] = 0.0\n",
    "prediction = make_prediction(trained_model_path, valid, mri_type=train_type, split=\"train\")\n",
    "\n",
    "valid.loc[:,\"MGMT_prediction\"] += prediction.loc[:,\"MGMT_value\"]\n",
    "\n",
    "auc = roc_auc_score(valid.loc[:, \"MGMT_value\"], valid.loc[:, \"MGMT_prediction\"])\n",
    "print(f\"Validation AUC: {auc}\")\n",
    "\n",
    "sns.displot(valid.loc[:, \"MGMT_prediction\"])"
   ]
  },
  {
   "cell_type": "code",
   "execution_count": 19,
   "id": "7142d737",
   "metadata": {
    "execution": {
     "iopub.execute_input": "2022-04-06T15:34:15.786100Z",
     "iopub.status.busy": "2022-04-06T15:34:15.785364Z",
     "iopub.status.idle": "2022-04-06T15:34:57.625730Z",
     "shell.execute_reply": "2022-04-06T15:34:57.625220Z",
     "shell.execute_reply.started": "2022-04-06T14:55:22.282526Z"
    },
    "papermill": {
     "duration": 42.158176,
     "end_time": "2022-04-06T15:34:57.625894",
     "exception": false,
     "start_time": "2022-04-06T15:34:15.467718",
     "status": "completed"
    },
    "tags": []
   },
   "outputs": [
    {
     "name": "stdout",
     "output_type": "stream",
     "text": [
      "           MGMT_value MRI_Type\n",
      "BraTS21ID                     \n",
      "1            0.493275    FLAIR\n",
      "13           0.493496    FLAIR\n",
      "15           0.493694    FLAIR\n",
      "27           0.493710    FLAIR\n",
      "37           0.493339    FLAIR\n",
      "...               ...      ...\n",
      "826          0.493677    FLAIR\n",
      "829          0.493780    FLAIR\n",
      "833          0.493247    FLAIR\n",
      "997          0.492629    FLAIR\n",
      "1006         0.493334    FLAIR\n",
      "\n",
      "[87 rows x 2 columns]\n"
     ]
    },
    {
     "data": {
      "text/plain": [
       "<seaborn.axisgrid.FacetGrid at 0x7f214d0c6990>"
      ]
     },
     "execution_count": 19,
     "metadata": {},
     "output_type": "execute_result"
    },
    {
     "data": {
      "image/png": "[encoded data removed]",
      "text/plain": [
       "<Figure size 360x360 with 1 Axes>"
      ]
     },
     "metadata": {
      "needs_background": "light"
     },
     "output_type": "display_data"
    }
   ],
   "source": [
    "submission = pd.read_csv(f\"/kaggle/input/rsna-miccai-brain-tumor-radiogenomic-classification/sample_submission.csv\", index_col=\"BraTS21ID\")\n",
    "\n",
    "submission[\"MGMT_value\"] = 0.0\n",
    "prediction = make_prediction(trained_model_path, submission, train_type, split=\"test\")\n",
    "submission[\"MGMT_value\"] += prediction[\"MGMT_value\"]\n",
    "\n",
    "submission[\"MGMT_value\"].to_csv(\"submission.csv\")\n",
    "print(submission)\n",
    "sns.displot(submission[\"MGMT_value\"])"
   ]
  }
 ],
 "metadata": {
  "kernelspec": {
   "display_name": "Python 3",
   "language": "python",
   "name": "python3"
  },
  "language_info": {
   "codemirror_mode": {
    "name": "ipython",
    "version": 3
   },
   "file_extension": ".py",
   "mimetype": "text/x-python",
   "name": "python",
   "nbconvert_exporter": "python",
   "pygments_lexer": "ipython3",
   "version": "3.7.10"
  },
  "papermill": {
   "default_parameters": {},
   "duration": 2338.691457,
   "end_time": "2022-04-06T15:35:00.854256",
   "environment_variables": {},
   "exception": null,
   "input_path": "__notebook__.ipynb",
   "output_path": "__notebook__.ipynb",
   "parameters": {},
   "start_time": "2022-04-06T14:56:02.162799",
   "version": "2.3.3"
  }
 },
 "nbformat": 4,
 "nbformat_minor": 5
}
